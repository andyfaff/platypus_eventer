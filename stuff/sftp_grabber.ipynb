{
 "cells": [
  {
   "cell_type": "code",
   "execution_count": null,
   "id": "5ea85608-fe5e-440a-b82a-143ac96e18f9",
   "metadata": {},
   "outputs": [],
   "source": [
    "import getpass\n",
    "import paramiko\n",
    "import threading\n",
    "import time\n",
    "from pathlib import Path\n",
    "import os"
   ]
  },
  {
   "cell_type": "code",
   "execution_count": null,
   "id": "e52e19a5-7c37-48c0-98eb-f28d0f595b93",
   "metadata": {},
   "outputs": [],
   "source": [
    "host = \"custard.nbi.ansto.gov.au\"\n",
    "pth = Path(\"/mnt/filer/experiments/platypus/cycle/current/data/histserv/\")"
   ]
  },
  {
   "cell_type": "code",
   "execution_count": null,
   "id": "0aaac096-f014-4bc9-8410-32ac09074e77",
   "metadata": {},
   "outputs": [],
   "source": [
    "user = getpass.getpass()\n",
    "passwd = getpass.getpass()"
   ]
  },
  {
   "cell_type": "code",
   "execution_count": null,
   "id": "cb898fad-50be-4504-8188-a958ee3fdf5d",
   "metadata": {},
   "outputs": [],
   "source": [
    "# Establish SSH client connection\n",
    "client = paramiko.SSHClient()\n",
    "client.set_missing_host_key_policy(paramiko.AutoAddPolicy()) # Handle unknown host keys\n",
    "client.connect(hostname=host, username=user, password=passwd)\n",
    "\n",
    "# Open SFTP client session\n",
    "sftp = client.open_sftp()\n",
    "sftp.chdir()"
   ]
  },
  {
   "cell_type": "code",
   "execution_count": null,
   "id": "f80ef317-7438-4fd0-91c9-a24daeb3cedf",
   "metadata": {},
   "outputs": [],
   "source": [
    "last_dirs = set(sftp.listdir())\n",
    "while True:\n",
    "    dirs = set(sftp.listdir())\n",
    "    diff = dirs.difference(last_dirs)\n",
    "    # grab diff\n",
    "    for d in diff:\n",
    "        os.makedirs(\".\" / d / \"DATA_0\", exist_ok=True)\n",
    "        sftp.get(pth / d / \"DATASET_0\" / \"EOS.bin\", \".\" / d / \"DATA_0\")\n",
    "        print(d)\n",
    "    time.sleep(3.0)\n",
    "    last_dirs = dirs"
   ]
  }
 ],
 "metadata": {
  "kernelspec": {
   "display_name": "Python 3 (ipykernel)",
   "language": "python",
   "name": "python3"
  },
  "language_info": {
   "codemirror_mode": {
    "name": "ipython",
    "version": 3
   },
   "file_extension": ".py",
   "mimetype": "text/x-python",
   "name": "python",
   "nbconvert_exporter": "python",
   "pygments_lexer": "ipython3",
   "version": "3.13.0"
  }
 },
 "nbformat": 4,
 "nbformat_minor": 5
}
