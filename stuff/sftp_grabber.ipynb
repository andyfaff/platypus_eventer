{
 "cells": [
  {
   "cell_type": "code",
   "execution_count": 3,
   "id": "5ea85608-fe5e-440a-b82a-143ac96e18f9",
   "metadata": {},
   "outputs": [],
   "source": [
    "import getpass\n",
    "import paramiko\n",
    "import threading\n",
    "import time\n",
    "from pathlib import Path\n",
    "import os"
   ]
  },
  {
   "cell_type": "code",
   "execution_count": 4,
   "id": "e52e19a5-7c37-48c0-98eb-f28d0f595b93",
   "metadata": {},
   "outputs": [],
   "source": [
    "host = \"ics1-quokka.nbi.ansto.gov.au\"\n",
    "pth = Path(\"/mnt/zfstor1/quokka/cycle/current/data/histserv/\")"
   ]
  },
  {
   "cell_type": "code",
   "execution_count": 9,
   "id": "0aaac096-f014-4bc9-8410-32ac09074e77",
   "metadata": {},
   "outputs": [
    {
     "name": "stdin",
     "output_type": "stream",
     "text": [
      " ········\n",
      " ········\n"
     ]
    }
   ],
   "source": [
    "user = getpass.getpass()\n",
    "passwd = getpass.getpass()"
   ]
  },
  {
   "cell_type": "code",
   "execution_count": 18,
   "id": "cb898fad-50be-4504-8188-a958ee3fdf5d",
   "metadata": {},
   "outputs": [],
   "source": [
    "# Establish SSH client connection\n",
    "client = paramiko.SSHClient()\n",
    "client.set_missing_host_key_policy(paramiko.AutoAddPolicy()) # Handle unknown host keys\n",
    "client.connect(hostname=host, username=user, password=passwd)\n",
    "\n",
    "# Open SFTP client session\n",
    "sftp = client.open_sftp()\n",
    "sftp.chdir(str(pth))"
   ]
  },
  {
   "cell_type": "code",
   "execution_count": 25,
   "id": "f80ef317-7438-4fd0-91c9-a24daeb3cedf",
   "metadata": {
    "scrolled": true
   },
   "outputs": [
    {
     "name": "stdout",
     "output_type": "stream",
     "text": [
      "DAQ_2025-08-01T15-04-58\n"
     ]
    },
    {
     "ename": "FileNotFoundError",
     "evalue": "[Errno 2] No such file",
     "output_type": "error",
     "traceback": [
      "\u001b[31m---------------------------------------------------------------------------\u001b[39m",
      "\u001b[31mFileNotFoundError\u001b[39m                         Traceback (most recent call last)",
      "\u001b[36mCell\u001b[39m\u001b[36m \u001b[39m\u001b[32mIn[25]\u001b[39m\u001b[32m, line 8\u001b[39m\n\u001b[32m      6\u001b[39m \u001b[38;5;28;01mfor\u001b[39;00m d \u001b[38;5;129;01min\u001b[39;00m diff:\n\u001b[32m      7\u001b[39m     os.makedirs(Path(\u001b[33m\"\u001b[39m\u001b[33m.\u001b[39m\u001b[33m\"\u001b[39m) / d / \u001b[33m\"\u001b[39m\u001b[33mDATA_0\u001b[39m\u001b[33m\"\u001b[39m, exist_ok=\u001b[38;5;28;01mTrue\u001b[39;00m)\n\u001b[32m----> \u001b[39m\u001b[32m8\u001b[39m     \u001b[43msftp\u001b[49m\u001b[43m.\u001b[49m\u001b[43mget\u001b[49m\u001b[43m(\u001b[49m\u001b[38;5;28;43mstr\u001b[39;49m\u001b[43m(\u001b[49m\u001b[43mpth\u001b[49m\u001b[43m \u001b[49m\u001b[43m/\u001b[49m\u001b[43m \u001b[49m\u001b[43md\u001b[49m\u001b[43m \u001b[49m\u001b[43m/\u001b[49m\u001b[43m \u001b[49m\u001b[33;43m\"\u001b[39;49m\u001b[33;43mDATASET_0\u001b[39;49m\u001b[33;43m\"\u001b[39;49m\u001b[43m \u001b[49m\u001b[43m/\u001b[49m\u001b[43m \u001b[49m\u001b[33;43m\"\u001b[39;49m\u001b[33;43mEOS.bin\u001b[39;49m\u001b[33;43m\"\u001b[39;49m\u001b[43m)\u001b[49m\u001b[43m,\u001b[49m\u001b[43m \u001b[49m\u001b[38;5;28;43mstr\u001b[39;49m\u001b[43m(\u001b[49m\u001b[43mPath\u001b[49m\u001b[43m(\u001b[49m\u001b[33;43m\"\u001b[39;49m\u001b[33;43m.\u001b[39;49m\u001b[33;43m\"\u001b[39;49m\u001b[43m)\u001b[49m\u001b[43m \u001b[49m\u001b[43m/\u001b[49m\u001b[43m \u001b[49m\u001b[43md\u001b[49m\u001b[43m \u001b[49m\u001b[43m/\u001b[49m\u001b[43m \u001b[49m\u001b[33;43m\"\u001b[39;49m\u001b[33;43mDATA_0\u001b[39;49m\u001b[33;43m\"\u001b[39;49m\u001b[43m \u001b[49m\u001b[43m/\u001b[49m\u001b[43m \u001b[49m\u001b[33;43m\"\u001b[39;49m\u001b[33;43mEOS.bin\u001b[39;49m\u001b[33;43m\"\u001b[39;49m\u001b[43m)\u001b[49m\u001b[43m)\u001b[49m\n\u001b[32m      9\u001b[39m     \u001b[38;5;28mprint\u001b[39m(d)\n\u001b[32m     10\u001b[39m time.sleep(\u001b[32m3.0\u001b[39m)\n",
      "\u001b[36mFile \u001b[39m\u001b[32m~/dev3/lib/python3.11/site-packages/paramiko/sftp_client.py:840\u001b[39m, in \u001b[36mSFTPClient.get\u001b[39m\u001b[34m(self, remotepath, localpath, callback, prefetch, max_concurrent_prefetch_requests)\u001b[39m\n\u001b[32m    811\u001b[39m \u001b[38;5;250m\u001b[39m\u001b[33;03m\"\"\"\u001b[39;00m\n\u001b[32m    812\u001b[39m \u001b[33;03mCopy a remote file (``remotepath``) from the SFTP server to the local\u001b[39;00m\n\u001b[32m    813\u001b[39m \u001b[33;03mhost as ``localpath``.  Any exception raised by operations will be\u001b[39;00m\n\u001b[32m   (...)\u001b[39m\u001b[32m    837\u001b[39m \u001b[33;03m    Added ``max_concurrent_prefetch_requests``.\u001b[39;00m\n\u001b[32m    838\u001b[39m \u001b[33;03m\"\"\"\u001b[39;00m\n\u001b[32m    839\u001b[39m \u001b[38;5;28;01mwith\u001b[39;00m \u001b[38;5;28mopen\u001b[39m(localpath, \u001b[33m\"\u001b[39m\u001b[33mwb\u001b[39m\u001b[33m\"\u001b[39m) \u001b[38;5;28;01mas\u001b[39;00m fl:\n\u001b[32m--> \u001b[39m\u001b[32m840\u001b[39m     size = \u001b[38;5;28;43mself\u001b[39;49m\u001b[43m.\u001b[49m\u001b[43mgetfo\u001b[49m\u001b[43m(\u001b[49m\n\u001b[32m    841\u001b[39m \u001b[43m        \u001b[49m\u001b[43mremotepath\u001b[49m\u001b[43m,\u001b[49m\n\u001b[32m    842\u001b[39m \u001b[43m        \u001b[49m\u001b[43mfl\u001b[49m\u001b[43m,\u001b[49m\n\u001b[32m    843\u001b[39m \u001b[43m        \u001b[49m\u001b[43mcallback\u001b[49m\u001b[43m,\u001b[49m\n\u001b[32m    844\u001b[39m \u001b[43m        \u001b[49m\u001b[43mprefetch\u001b[49m\u001b[43m,\u001b[49m\n\u001b[32m    845\u001b[39m \u001b[43m        \u001b[49m\u001b[43mmax_concurrent_prefetch_requests\u001b[49m\u001b[43m,\u001b[49m\n\u001b[32m    846\u001b[39m \u001b[43m    \u001b[49m\u001b[43m)\u001b[49m\n\u001b[32m    847\u001b[39m s = os.stat(localpath)\n\u001b[32m    848\u001b[39m \u001b[38;5;28;01mif\u001b[39;00m s.st_size != size:\n",
      "\u001b[36mFile \u001b[39m\u001b[32m~/dev3/lib/python3.11/site-packages/paramiko/sftp_client.py:795\u001b[39m, in \u001b[36mSFTPClient.getfo\u001b[39m\u001b[34m(self, remotepath, fl, callback, prefetch, max_concurrent_prefetch_requests)\u001b[39m\n\u001b[32m    761\u001b[39m \u001b[38;5;28;01mdef\u001b[39;00m\u001b[38;5;250m \u001b[39m\u001b[34mgetfo\u001b[39m(\n\u001b[32m    762\u001b[39m     \u001b[38;5;28mself\u001b[39m,\n\u001b[32m    763\u001b[39m     remotepath,\n\u001b[32m   (...)\u001b[39m\u001b[32m    767\u001b[39m     max_concurrent_prefetch_requests=\u001b[38;5;28;01mNone\u001b[39;00m,\n\u001b[32m    768\u001b[39m ):\n\u001b[32m    769\u001b[39m \u001b[38;5;250m    \u001b[39m\u001b[33;03m\"\"\"\u001b[39;00m\n\u001b[32m    770\u001b[39m \u001b[33;03m    Copy a remote file (``remotepath``) from the SFTP server and write to\u001b[39;00m\n\u001b[32m    771\u001b[39m \u001b[33;03m    an open file or file-like object, ``fl``.  Any exception raised by\u001b[39;00m\n\u001b[32m   (...)\u001b[39m\u001b[32m    793\u001b[39m \u001b[33;03m        Added ``max_concurrent_prefetch_requests``.\u001b[39;00m\n\u001b[32m    794\u001b[39m \u001b[33;03m    \"\"\"\u001b[39;00m\n\u001b[32m--> \u001b[39m\u001b[32m795\u001b[39m     file_size = \u001b[38;5;28;43mself\u001b[39;49m\u001b[43m.\u001b[49m\u001b[43mstat\u001b[49m\u001b[43m(\u001b[49m\u001b[43mremotepath\u001b[49m\u001b[43m)\u001b[49m.st_size\n\u001b[32m    796\u001b[39m     \u001b[38;5;28;01mwith\u001b[39;00m \u001b[38;5;28mself\u001b[39m.open(remotepath, \u001b[33m\"\u001b[39m\u001b[33mrb\u001b[39m\u001b[33m\"\u001b[39m) \u001b[38;5;28;01mas\u001b[39;00m fr:\n\u001b[32m    797\u001b[39m         \u001b[38;5;28;01mif\u001b[39;00m prefetch:\n",
      "\u001b[36mFile \u001b[39m\u001b[32m~/dev3/lib/python3.11/site-packages/paramiko/sftp_client.py:493\u001b[39m, in \u001b[36mSFTPClient.stat\u001b[39m\u001b[34m(self, path)\u001b[39m\n\u001b[32m    491\u001b[39m path = \u001b[38;5;28mself\u001b[39m._adjust_cwd(path)\n\u001b[32m    492\u001b[39m \u001b[38;5;28mself\u001b[39m._log(DEBUG, \u001b[33m\"\u001b[39m\u001b[33mstat(\u001b[39m\u001b[38;5;132;01m{!r}\u001b[39;00m\u001b[33m)\u001b[39m\u001b[33m\"\u001b[39m.format(path))\n\u001b[32m--> \u001b[39m\u001b[32m493\u001b[39m t, msg = \u001b[38;5;28;43mself\u001b[39;49m\u001b[43m.\u001b[49m\u001b[43m_request\u001b[49m\u001b[43m(\u001b[49m\u001b[43mCMD_STAT\u001b[49m\u001b[43m,\u001b[49m\u001b[43m \u001b[49m\u001b[43mpath\u001b[49m\u001b[43m)\u001b[49m\n\u001b[32m    494\u001b[39m \u001b[38;5;28;01mif\u001b[39;00m t != CMD_ATTRS:\n\u001b[32m    495\u001b[39m     \u001b[38;5;28;01mraise\u001b[39;00m SFTPError(\u001b[33m\"\u001b[39m\u001b[33mExpected attributes\u001b[39m\u001b[33m\"\u001b[39m)\n",
      "\u001b[36mFile \u001b[39m\u001b[32m~/dev3/lib/python3.11/site-packages/paramiko/sftp_client.py:857\u001b[39m, in \u001b[36mSFTPClient._request\u001b[39m\u001b[34m(self, t, *args)\u001b[39m\n\u001b[32m    855\u001b[39m \u001b[38;5;28;01mdef\u001b[39;00m\u001b[38;5;250m \u001b[39m\u001b[34m_request\u001b[39m(\u001b[38;5;28mself\u001b[39m, t, *args):\n\u001b[32m    856\u001b[39m     num = \u001b[38;5;28mself\u001b[39m._async_request(\u001b[38;5;28mtype\u001b[39m(\u001b[38;5;28;01mNone\u001b[39;00m), t, *args)\n\u001b[32m--> \u001b[39m\u001b[32m857\u001b[39m     \u001b[38;5;28;01mreturn\u001b[39;00m \u001b[38;5;28;43mself\u001b[39;49m\u001b[43m.\u001b[49m\u001b[43m_read_response\u001b[49m\u001b[43m(\u001b[49m\u001b[43mnum\u001b[49m\u001b[43m)\u001b[49m\n",
      "\u001b[36mFile \u001b[39m\u001b[32m~/dev3/lib/python3.11/site-packages/paramiko/sftp_client.py:909\u001b[39m, in \u001b[36mSFTPClient._read_response\u001b[39m\u001b[34m(self, waitfor)\u001b[39m\n\u001b[32m    906\u001b[39m \u001b[38;5;28;01mif\u001b[39;00m num == waitfor:\n\u001b[32m    907\u001b[39m     \u001b[38;5;66;03m# synchronous\u001b[39;00m\n\u001b[32m    908\u001b[39m     \u001b[38;5;28;01mif\u001b[39;00m t == CMD_STATUS:\n\u001b[32m--> \u001b[39m\u001b[32m909\u001b[39m         \u001b[38;5;28;43mself\u001b[39;49m\u001b[43m.\u001b[49m\u001b[43m_convert_status\u001b[49m\u001b[43m(\u001b[49m\u001b[43mmsg\u001b[49m\u001b[43m)\u001b[49m\n\u001b[32m    910\u001b[39m     \u001b[38;5;28;01mreturn\u001b[39;00m t, msg\n\u001b[32m    912\u001b[39m \u001b[38;5;66;03m# can not rewrite this to deal with E721, either as a None check\u001b[39;00m\n\u001b[32m    913\u001b[39m \u001b[38;5;66;03m# nor as not an instance of None or NoneType\u001b[39;00m\n",
      "\u001b[36mFile \u001b[39m\u001b[32m~/dev3/lib/python3.11/site-packages/paramiko/sftp_client.py:938\u001b[39m, in \u001b[36mSFTPClient._convert_status\u001b[39m\u001b[34m(self, msg)\u001b[39m\n\u001b[32m    935\u001b[39m     \u001b[38;5;28;01mraise\u001b[39;00m \u001b[38;5;167;01mEOFError\u001b[39;00m(text)\n\u001b[32m    936\u001b[39m \u001b[38;5;28;01melif\u001b[39;00m code == SFTP_NO_SUCH_FILE:\n\u001b[32m    937\u001b[39m     \u001b[38;5;66;03m# clever idea from john a. meinel: map the error codes to errno\u001b[39;00m\n\u001b[32m--> \u001b[39m\u001b[32m938\u001b[39m     \u001b[38;5;28;01mraise\u001b[39;00m \u001b[38;5;167;01mIOError\u001b[39;00m(errno.ENOENT, text)\n\u001b[32m    939\u001b[39m \u001b[38;5;28;01melif\u001b[39;00m code == SFTP_PERMISSION_DENIED:\n\u001b[32m    940\u001b[39m     \u001b[38;5;28;01mraise\u001b[39;00m \u001b[38;5;167;01mIOError\u001b[39;00m(errno.EACCES, text)\n",
      "\u001b[31mFileNotFoundError\u001b[39m: [Errno 2] No such file"
     ]
    }
   ],
   "source": [
    "last_dirs = set(sftp.listdir())\n",
    "while True:\n",
    "    dirs = set(sftp.listdir())\n",
    "    diff = dirs.difference(last_dirs)\n",
    "    # grab diff\n",
    "    for d in diff:\n",
    "        os.makedirs(Path(\".\") / d / \"DATA_0\", exist_ok=True)\n",
    "        sftp.get(str(pth / d / \"DATASET_0\" / \"EOS.bin\"), str(Path(\".\") / d / \"DATA_0\" / \"EOS.bin\"))\n",
    "        print(d)\n",
    "    time.sleep(3.0)\n",
    "    last_dirs = dirs"
   ]
  },
  {
   "cell_type": "code",
   "execution_count": 26,
   "id": "506de34a-b98b-4a40-945c-02ed4ff8522b",
   "metadata": {},
   "outputs": [],
   "source": [
    "d = \"DAQ_2025-08-01T15-07-24\"\n",
    "os.makedirs(Path(\".\") / d / \"DATA_0\", exist_ok=True)\n",
    "sftp.get(str(pth / d / \"DATASET_0\" / \"EOS.bin\"), str(Path(\".\") / d / \"DATA_0\" / \"EOS.bin\"))"
   ]
  },
  {
   "cell_type": "code",
   "execution_count": null,
   "id": "926b6bf7-a228-4b33-b940-21e05e8917c9",
   "metadata": {},
   "outputs": [],
   "source": []
  },
  {
   "cell_type": "code",
   "execution_count": null,
   "id": "b3a577a8-b34b-4d24-acc4-6640431a9f2f",
   "metadata": {},
   "outputs": [],
   "source": []
  },
  {
   "cell_type": "code",
   "execution_count": null,
   "id": "89e031a0-436c-408a-a079-a92cb8d0351b",
   "metadata": {},
   "outputs": [],
   "source": []
  }
 ],
 "metadata": {
  "kernelspec": {
   "display_name": "Python 3 (ipykernel)",
   "language": "python",
   "name": "python3"
  },
  "language_info": {
   "codemirror_mode": {
    "name": "ipython",
    "version": 3
   },
   "file_extension": ".py",
   "mimetype": "text/x-python",
   "name": "python",
   "nbconvert_exporter": "python",
   "pygments_lexer": "ipython3",
   "version": "3.11.2"
  }
 },
 "nbformat": 4,
 "nbformat_minor": 5
}
