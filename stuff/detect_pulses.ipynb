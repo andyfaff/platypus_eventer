{
 "cells": [
  {
   "cell_type": "code",
   "execution_count": 1,
   "id": "84809c35-96b9-47cb-bc8e-5a95b2ba63b8",
   "metadata": {},
   "outputs": [],
   "source": [
    "import RPi.GPIO\n",
    "import numpy as np\n",
    "import time\n",
    "import matplotlib.pyplot as plt"
   ]
  },
  {
   "cell_type": "code",
   "execution_count": 2,
   "id": "002551f7-32a3-4136-9be3-0b4607395ef5",
   "metadata": {},
   "outputs": [
    {
     "name": "stdout",
     "output_type": "stream",
     "text": [
      "15281 (process ID) old priority 0, new priority -19\n"
     ]
    },
    {
     "data": {
      "text/plain": [
       "0"
      ]
     },
     "execution_count": 2,
     "metadata": {},
     "output_type": "execute_result"
    }
   ],
   "source": [
    "import os\n",
    "pid = os.getpid()\n",
    "os.system(f\"sudo renice -n -19 -p {pid}\")"
   ]
  },
  {
   "cell_type": "code",
   "execution_count": 3,
   "id": "d388d1a5-23b5-44be-b3eb-0c1bd0214c91",
   "metadata": {},
   "outputs": [],
   "source": [
    "RPi.GPIO.setmode(RPi.GPIO.BOARD)"
   ]
  },
  {
   "cell_type": "code",
   "execution_count": 4,
   "id": "3ecd2cbe-414d-4af8-8f9d-75273aa85757",
   "metadata": {},
   "outputs": [
    {
     "data": {
      "text/plain": [
       "10"
      ]
     },
     "execution_count": 4,
     "metadata": {},
     "output_type": "execute_result"
    }
   ],
   "source": [
    "RPi.GPIO.getmode()"
   ]
  },
  {
   "cell_type": "code",
   "execution_count": 5,
   "id": "82b0ed7a-3ca9-49c6-8d65-ee21bcceaa29",
   "metadata": {},
   "outputs": [],
   "source": [
    "PIN = 11"
   ]
  },
  {
   "cell_type": "code",
   "execution_count": 6,
   "id": "fb02454a-3243-423b-8faa-646b9c09a460",
   "metadata": {},
   "outputs": [],
   "source": [
    "RPi.GPIO.setup(PIN, RPi.GPIO.IN, pull_up_down=RPi.GPIO.PUD_OFF)"
   ]
  },
  {
   "cell_type": "code",
   "execution_count": 7,
   "id": "1317a114-d5c2-4a59-851c-22f8a9f80603",
   "metadata": {},
   "outputs": [],
   "source": [
    "RPi.GPIO.add_event_detect(PIN, RPi.GPIO.RISING)"
   ]
  },
  {
   "cell_type": "code",
   "execution_count": 9,
   "id": "7d36a35b-3f13-453b-832e-eeea299a0b70",
   "metadata": {},
   "outputs": [
    {
     "data": {
      "text/plain": [
       "True"
      ]
     },
     "execution_count": 9,
     "metadata": {},
     "output_type": "execute_result"
    }
   ],
   "source": [
    "RPi.GPIO.event_detected(PIN)"
   ]
  },
  {
   "cell_type": "code",
   "execution_count": 10,
   "id": "8a3f7ee9-a092-4ae5-a645-1cd50e6f34da",
   "metadata": {},
   "outputs": [
    {
     "data": {
      "text/plain": [
       "1"
      ]
     },
     "execution_count": 10,
     "metadata": {},
     "output_type": "execute_result"
    }
   ],
   "source": [
    "RPi.GPIO.input(PIN)"
   ]
  },
  {
   "cell_type": "code",
   "execution_count": 12,
   "id": "87277285-99be-4217-8404-d7b1b62d0c98",
   "metadata": {},
   "outputs": [],
   "source": [
    "class Callback:\n",
    "    def __init__(self, channel):\n",
    "        self.channel = channel\n",
    "        self.times = []\n",
    "\n",
    "    def __call__(self, channel):\n",
    "        self.times.append(time.time_ns())"
   ]
  },
  {
   "cell_type": "code",
   "execution_count": 13,
   "id": "a587c8a4-2e9c-4f61-8ebd-5fcc995b732b",
   "metadata": {},
   "outputs": [],
   "source": [
    "callback = Callback(PIN)\n",
    "RPi.GPIO.add_event_callback(PIN, callback)"
   ]
  },
  {
   "cell_type": "code",
   "execution_count": 24,
   "id": "f2242623-7447-40d6-affd-b771a76b55f9",
   "metadata": {},
   "outputs": [
    {
     "data": {
      "text/plain": [
       "(np.float64(0.037842629), np.float64(0.045720473), 2594)"
      ]
     },
     "execution_count": 24,
     "metadata": {},
     "output_type": "execute_result"
    }
   ],
   "source": [
    "diff = np.diff(callback.times)/1e9\n",
    "np.min(diff), np.max(diff), len(diff)"
   ]
  },
  {
   "cell_type": "code",
   "execution_count": 36,
   "id": "e76fe8b4-6fc4-4e7e-b8e9-490deba632d1",
   "metadata": {},
   "outputs": [
    {
     "data": {
      "text/plain": [
       "[<matplotlib.lines.Line2D at 0x7ffed527f050>]"
      ]
     },
     "execution_count": 36,
     "metadata": {},
     "output_type": "execute_result"
    },
    {
     "data": {
      "image/png": "[encoded data removed]",
      "text/plain": [
       "<Figure size 640x480 with 1 Axes>"
      ]
     },
     "metadata": {},
     "output_type": "display_data"
    }
   ],
   "source": [
    "plt.plot(diff)\n",
    "# plt.xlim(5700, 5800)"
   ]
  },
  {
   "cell_type": "code",
   "execution_count": null,
   "id": "0a85c582-b27c-470d-b9a0-6aeecdcdf574",
   "metadata": {},
   "outputs": [],
   "source": []
  }
 ],
 "metadata": {
  "kernelspec": {
   "display_name": "Python 3 (ipykernel)",
   "language": "python",
   "name": "python3"
  },
  "language_info": {
   "codemirror_mode": {
    "name": "ipython",
    "version": 3
   },
   "file_extension": ".py",
   "mimetype": "text/x-python",
   "name": "python",
   "nbconvert_exporter": "python",
   "pygments_lexer": "ipython3",
   "version": "3.11.2"
  }
 },
 "nbformat": 4,
 "nbformat_minor": 5
}
