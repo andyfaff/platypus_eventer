{
 "cells": [
  {
   "cell_type": "code",
   "execution_count": 1,
   "id": "84809c35-96b9-47cb-bc8e-5a95b2ba63b8",
   "metadata": {},
   "outputs": [],
   "source": [
    "import RPi.GPIO\n",
    "import numpy as np\n",
    "import time"
   ]
  },
  {
   "cell_type": "code",
   "execution_count": 2,
   "id": "d388d1a5-23b5-44be-b3eb-0c1bd0214c91",
   "metadata": {},
   "outputs": [],
   "source": [
    "RPi.GPIO.setmode(RPi.GPIO.BOARD)"
   ]
  },
  {
   "cell_type": "code",
   "execution_count": 3,
   "id": "3ecd2cbe-414d-4af8-8f9d-75273aa85757",
   "metadata": {},
   "outputs": [
    {
     "data": {
      "text/plain": [
       "10"
      ]
     },
     "execution_count": 3,
     "metadata": {},
     "output_type": "execute_result"
    }
   ],
   "source": [
    "RPi.GPIO.getmode()"
   ]
  },
  {
   "cell_type": "code",
   "execution_count": 5,
   "id": "fb02454a-3243-423b-8faa-646b9c09a460",
   "metadata": {},
   "outputs": [],
   "source": [
    "RPi.GPIO.setup(36, RPi.GPIO.IN, pull_up_down=RPi.GPIO.PUD_OFF)"
   ]
  },
  {
   "cell_type": "code",
   "execution_count": 6,
   "id": "1317a114-d5c2-4a59-851c-22f8a9f80603",
   "metadata": {},
   "outputs": [],
   "source": [
    "RPi.GPIO.add_event_detect(36, RPi.GPIO.RISING)"
   ]
  },
  {
   "cell_type": "code",
   "execution_count": 7,
   "id": "7d36a35b-3f13-453b-832e-eeea299a0b70",
   "metadata": {},
   "outputs": [
    {
     "data": {
      "text/plain": [
       "True"
      ]
     },
     "execution_count": 7,
     "metadata": {},
     "output_type": "execute_result"
    }
   ],
   "source": [
    "RPi.GPIO.event_detected(36)"
   ]
  },
  {
   "cell_type": "code",
   "execution_count": 8,
   "id": "87277285-99be-4217-8404-d7b1b62d0c98",
   "metadata": {},
   "outputs": [],
   "source": [
    "class Callback:\n",
    "    def __init__(self, channel):\n",
    "        self.channel = channel\n",
    "        self.times = []\n",
    "\n",
    "    def __call__(self, channel):\n",
    "        self.times.append(time.time())"
   ]
  },
  {
   "cell_type": "code",
   "execution_count": 9,
   "id": "a587c8a4-2e9c-4f61-8ebd-5fcc995b732b",
   "metadata": {},
   "outputs": [],
   "source": [
    "callback = Callback(36)\n",
    "RPi.GPIO.add_event_callback(36, callback)"
   ]
  },
  {
   "cell_type": "code",
   "execution_count": 16,
   "id": "f2242623-7447-40d6-affd-b771a76b55f9",
   "metadata": {},
   "outputs": [],
   "source": [
    "times = np.array(callback.times)"
   ]
  },
  {
   "cell_type": "code",
   "execution_count": 17,
   "id": "a728ed05-7157-4682-b064-4ec0581d2018",
   "metadata": {},
   "outputs": [
    {
     "data": {
      "text/plain": [
       "2755"
      ]
     },
     "execution_count": 17,
     "metadata": {},
     "output_type": "execute_result"
    }
   ],
   "source": [
    "len(times)"
   ]
  },
  {
   "cell_type": "code",
   "execution_count": 18,
   "id": "5bcc71d6-7634-4bd7-ac52-3dd14d173810",
   "metadata": {},
   "outputs": [
    {
     "data": {
      "text/plain": [
       "array([0.01663136, 0.01668286, 0.01676059, ..., 0.01666212, 0.01666665,\n",
       "       0.01666927], shape=(2754,))"
      ]
     },
     "execution_count": 18,
     "metadata": {},
     "output_type": "execute_result"
    }
   ],
   "source": [
    "np.diff(times)"
   ]
  },
  {
   "cell_type": "code",
   "execution_count": 19,
   "id": "ad04455b-44dc-455c-8adf-95e5ff9ea582",
   "metadata": {},
   "outputs": [
    {
     "data": {
      "text/plain": [
       "np.float64(0.0001829261461514287)"
      ]
     },
     "execution_count": 19,
     "metadata": {},
     "output_type": "execute_result"
    }
   ],
   "source": [
    "np.std(np.diff(times))"
   ]
  },
  {
   "cell_type": "code",
   "execution_count": 1,
   "id": "401ceb96-092f-404b-a464-c9f2e4c1f33b",
   "metadata": {},
   "outputs": [],
   "source": [
    "from multiprocessing import Value"
   ]
  },
  {
   "cell_type": "code",
   "execution_count": 5,
   "id": "fefb9098-4cbf-4cdf-8fac-1ed7cc1e624d",
   "metadata": {},
   "outputs": [],
   "source": [
    "v = Value(c_uint64)"
   ]
  },
  {
   "cell_type": "code",
   "execution_count": 3,
   "id": "86c611c5-310e-4f4a-a62e-b446fc55f808",
   "metadata": {},
   "outputs": [],
   "source": [
    "from ctypes import c_uint64"
   ]
  },
  {
   "cell_type": "code",
   "execution_count": 6,
   "id": "71c8c1f8-d8c4-4054-81d5-d00619528a1b",
   "metadata": {},
   "outputs": [
    {
     "data": {
      "text/plain": [
       "0"
      ]
     },
     "execution_count": 6,
     "metadata": {},
     "output_type": "execute_result"
    }
   ],
   "source": [
    "v.value"
   ]
  },
  {
   "cell_type": "code",
   "execution_count": null,
   "id": "857bd929-ffb7-4164-b1c4-5838a0eaf5f4",
   "metadata": {},
   "outputs": [],
   "source": []
  }
 ],
 "metadata": {
  "kernelspec": {
   "display_name": "Python 3 (ipykernel)",
   "language": "python",
   "name": "python3"
  },
  "language_info": {
   "codemirror_mode": {
    "name": "ipython",
    "version": 3
   },
   "file_extension": ".py",
   "mimetype": "text/x-python",
   "name": "python",
   "nbconvert_exporter": "python",
   "pygments_lexer": "ipython3",
   "version": "3.11.2"
  }
 },
 "nbformat": 4,
 "nbformat_minor": 5
}
