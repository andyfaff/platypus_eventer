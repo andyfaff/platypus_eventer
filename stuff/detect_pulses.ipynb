{
 "cells": [
  {
   "cell_type": "code",
   "execution_count": 1,
   "id": "84809c35-96b9-47cb-bc8e-5a95b2ba63b8",
   "metadata": {},
   "outputs": [],
   "source": [
    "import RPi.GPIO\n",
    "import numpy as np\n",
    "import time"
   ]
  },
  {
   "cell_type": "code",
   "execution_count": 2,
   "id": "d388d1a5-23b5-44be-b3eb-0c1bd0214c91",
   "metadata": {},
   "outputs": [],
   "source": [
    "RPi.GPIO.setmode(RPi.GPIO.BOARD)"
   ]
  },
  {
   "cell_type": "code",
   "execution_count": 3,
   "id": "3ecd2cbe-414d-4af8-8f9d-75273aa85757",
   "metadata": {},
   "outputs": [
    {
     "data": {
      "text/plain": [
       "10"
      ]
     },
     "execution_count": 3,
     "metadata": {},
     "output_type": "execute_result"
    }
   ],
   "source": [
    "RPi.GPIO.getmode()"
   ]
  },
  {
   "cell_type": "code",
   "execution_count": 4,
   "id": "fb02454a-3243-423b-8faa-646b9c09a460",
   "metadata": {},
   "outputs": [],
   "source": [
    "RPi.GPIO.setup(11, RPi.GPIO.IN, pull_up_down=RPi.GPIO.PUD_OFF)"
   ]
  },
  {
   "cell_type": "code",
   "execution_count": 5,
   "id": "1317a114-d5c2-4a59-851c-22f8a9f80603",
   "metadata": {},
   "outputs": [],
   "source": [
    "RPi.GPIO.add_event_detect(11, RPi.GPIO.RISING)"
   ]
  },
  {
   "cell_type": "code",
   "execution_count": 6,
   "id": "7d36a35b-3f13-453b-832e-eeea299a0b70",
   "metadata": {},
   "outputs": [
    {
     "data": {
      "text/plain": [
       "True"
      ]
     },
     "execution_count": 6,
     "metadata": {},
     "output_type": "execute_result"
    }
   ],
   "source": [
    "RPi.GPIO.event_detected(11)"
   ]
  },
  {
   "cell_type": "code",
   "execution_count": 7,
   "id": "87277285-99be-4217-8404-d7b1b62d0c98",
   "metadata": {},
   "outputs": [],
   "source": [
    "class Callback:\n",
    "    def __init__(self, channel):\n",
    "        self.channel = channel\n",
    "        self.times = []\n",
    "\n",
    "    def __call__(self, channel):\n",
    "        self.times.append(time.time())"
   ]
  },
  {
   "cell_type": "code",
   "execution_count": 8,
   "id": "a587c8a4-2e9c-4f61-8ebd-5fcc995b732b",
   "metadata": {},
   "outputs": [
    {
     "name": "stdout",
     "output_type": "stream",
     "text": [
      "hi\n",
      "hi\n",
      "hi\n",
      "hi\n",
      "hi\n",
      "hi\n",
      "hi\n",
      "hi\n",
      "hi\n",
      "hi\n",
      "hi\n",
      "hi\n",
      "hi\n",
      "hi\n",
      "hi\n",
      "hi\n",
      "hi\n",
      "hi\n",
      "hi\n",
      "hi\n",
      "hi\n",
      "hi\n",
      "hi\n",
      "hi\n",
      "hi\n",
      "hi\n",
      "hi\n",
      "hi\n",
      "hi\n",
      "hi\n",
      "hi\n",
      "hi\n",
      "hi\n",
      "hi\n",
      "hi\n",
      "hi\n",
      "hi\n",
      "hi\n",
      "hi\n",
      "hi\n",
      "hi\n",
      "hi\n",
      "hi\n",
      "hi\n",
      "hi\n",
      "hi\n",
      "hi\n",
      "hi\n",
      "hi\n",
      "hi\n",
      "hi\n",
      "hi\n",
      "hi\n",
      "hi\n",
      "hi\n",
      "hi\n",
      "hi\n",
      "hi\n",
      "hi\n",
      "hi\n",
      "hi\n",
      "hi\n",
      "hi\n",
      "hi\n",
      "hi\n",
      "hi\n",
      "hi\n",
      "hi\n",
      "hi\n",
      "hi\n",
      "hi\n",
      "hi\n",
      "hi\n",
      "hi\n",
      "hi\n",
      "hi\n",
      "hi\n",
      "hi\n",
      "hi\n",
      "hi\n",
      "hi\n",
      "hi\n",
      "hi\n",
      "hi\n",
      "hi\n",
      "hi\n",
      "hi\n",
      "hi\n",
      "hi\n",
      "hi\n",
      "hi\n",
      "hi\n",
      "hi\n",
      "hi\n",
      "hi\n",
      "hi\n",
      "hi\n",
      "hi\n",
      "hi\n",
      "hi\n",
      "hi\n",
      "hi\n",
      "hi\n",
      "hi\n",
      "hi\n",
      "hi\n",
      "hi\n",
      "hi\n",
      "hi\n",
      "hi\n",
      "hi\n",
      "hi\n",
      "hi\n",
      "hi\n",
      "hi\n",
      "hi\n",
      "hi\n",
      "hi\n",
      "hi\n",
      "hi\n",
      "hi\n",
      "hi\n",
      "hi\n",
      "hi\n",
      "hi\n",
      "hi\n",
      "hi\n",
      "hi\n",
      "hi\n",
      "hi\n",
      "hi\n",
      "hi\n",
      "hi\n",
      "hi\n",
      "hi\n",
      "hi\n",
      "hi\n",
      "hi\n",
      "hi\n",
      "hi\n",
      "hi\n",
      "hi\n",
      "hi\n",
      "hi\n",
      "hi\n",
      "hi\n",
      "hi\n",
      "hi\n",
      "hi\n",
      "hi\n"
     ]
    }
   ],
   "source": [
    "callback = Callback(11)\n",
    "RPi.GPIO.add_event_callback(11, callback)"
   ]
  },
  {
   "cell_type": "code",
   "execution_count": 9,
   "id": "f2242623-7447-40d6-affd-b771a76b55f9",
   "metadata": {},
   "outputs": [],
   "source": [
    "times = np.array(callback.times)"
   ]
  },
  {
   "cell_type": "code",
   "execution_count": 10,
   "id": "a728ed05-7157-4682-b064-4ec0581d2018",
   "metadata": {},
   "outputs": [
    {
     "data": {
      "text/plain": [
       "102"
      ]
     },
     "execution_count": 10,
     "metadata": {},
     "output_type": "execute_result"
    }
   ],
   "source": [
    "len(times)"
   ]
  },
  {
   "cell_type": "code",
   "execution_count": 11,
   "id": "5bcc71d6-7634-4bd7-ac52-3dd14d173810",
   "metadata": {},
   "outputs": [
    {
     "data": {
      "text/plain": [
       "array([0.04225802, 0.04105091, 0.04165387, 0.04165959, 0.04170084,\n",
       "       0.04165411, 0.04164743, 0.04166532, 0.04165363, 0.04278255,\n",
       "       0.04057932, 0.04166961, 0.04164696, 0.04166961, 0.04164696,\n",
       "       0.04165602, 0.04175401, 0.0416007 , 0.04168797, 0.04162502,\n",
       "       0.04167843, 0.04166389, 0.04166722, 0.04170918, 0.04164958,\n",
       "       0.041646  , 0.04165959, 0.04166174, 0.04166532, 0.04166913,\n",
       "       0.04167438, 0.04167914, 0.04164505, 0.04166031, 0.04166579,\n",
       "       0.04166865, 0.04168868, 0.04165673, 0.04165649, 0.04166222,\n",
       "       0.04167271, 0.04166245, 0.04166675, 0.04167962, 0.04169035,\n",
       "       0.04164743, 0.04169512, 0.04163432, 0.04165745, 0.04167652,\n",
       "       0.04167199, 0.04167724, 0.04165721, 0.04165196, 0.04167557,\n",
       "       0.04166555, 0.04170084, 0.04164457, 0.04166222, 0.04166269,\n",
       "       0.04166627, 0.04166341, 0.04171395, 0.04162169, 0.04168391,\n",
       "       0.0416503 , 0.04166865, 0.0416615 , 0.04167128, 0.04170561,\n",
       "       0.04162741, 0.04167843, 0.04165268, 0.04170537, 0.04163098,\n",
       "       0.04170918, 0.04163003, 0.04167438, 0.04167843, 0.04166794,\n",
       "       0.041749  , 0.04160094, 0.04162645, 0.04167295, 0.04166579,\n",
       "       0.04165792, 0.04170442, 0.04163122, 0.0416646 , 0.04169011,\n",
       "       0.04165792, 0.04167747, 0.04166317, 0.04166698, 0.04167795,\n",
       "       0.04164147, 0.04166389, 0.04167223, 0.04165959, 0.04166532,\n",
       "       0.04167724])"
      ]
     },
     "execution_count": 11,
     "metadata": {},
     "output_type": "execute_result"
    }
   ],
   "source": [
    "np.diff(times)"
   ]
  },
  {
   "cell_type": "code",
   "execution_count": 12,
   "id": "ad04455b-44dc-455c-8adf-95e5ff9ea582",
   "metadata": {},
   "outputs": [
    {
     "data": {
      "text/plain": [
       "np.float64(0.00017840717148538262)"
      ]
     },
     "execution_count": 12,
     "metadata": {},
     "output_type": "execute_result"
    }
   ],
   "source": [
    "np.std(np.diff(times))"
   ]
  },
  {
   "cell_type": "code",
   "execution_count": 13,
   "id": "857bd929-ffb7-4164-b1c4-5838a0eaf5f4",
   "metadata": {},
   "outputs": [
    {
     "data": {
      "text/plain": [
       "np.float64(24.000683844030448)"
      ]
     },
     "execution_count": 13,
     "metadata": {},
     "output_type": "execute_result"
    }
   ],
   "source": [
    "np.mean(1/np.diff(times))"
   ]
  },
  {
   "cell_type": "code",
   "execution_count": null,
   "id": "e76fe8b4-6fc4-4e7e-b8e9-490deba632d1",
   "metadata": {},
   "outputs": [],
   "source": []
  }
 ],
 "metadata": {
  "kernelspec": {
   "display_name": "Python 3 (ipykernel)",
   "language": "python",
   "name": "python3"
  },
  "language_info": {
   "codemirror_mode": {
    "name": "ipython",
    "version": 3
   },
   "file_extension": ".py",
   "mimetype": "text/x-python",
   "name": "python",
   "nbconvert_exporter": "python",
   "pygments_lexer": "ipython3",
   "version": "3.11.2"
  }
 },
 "nbformat": 4,
 "nbformat_minor": 5
}
