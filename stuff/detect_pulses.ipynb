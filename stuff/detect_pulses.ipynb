{
 "cells": [
  {
   "cell_type": "code",
   "execution_count": 1,
   "id": "84809c35-96b9-47cb-bc8e-5a95b2ba63b8",
   "metadata": {},
   "outputs": [],
   "source": [
    "import RPi.GPIO\n",
    "import numpy as np\n",
    "import time"
   ]
  },
  {
   "cell_type": "code",
   "execution_count": 2,
   "id": "d388d1a5-23b5-44be-b3eb-0c1bd0214c91",
   "metadata": {},
   "outputs": [],
   "source": [
    "RPi.GPIO.setmode(RPi.GPIO.BOARD)"
   ]
  },
  {
   "cell_type": "code",
   "execution_count": 3,
   "id": "3ecd2cbe-414d-4af8-8f9d-75273aa85757",
   "metadata": {},
   "outputs": [
    {
     "data": {
      "text/plain": [
       "10"
      ]
     },
     "execution_count": 3,
     "metadata": {},
     "output_type": "execute_result"
    }
   ],
   "source": [
    "RPi.GPIO.getmode()"
   ]
  },
  {
   "cell_type": "code",
   "execution_count": 4,
   "id": "fb02454a-3243-423b-8faa-646b9c09a460",
   "metadata": {},
   "outputs": [],
   "source": [
    "RPi.GPIO.setup(11, RPi.GPIO.IN, pull_up_down=RPi.GPIO.PUD_OFF)"
   ]
  },
  {
   "cell_type": "code",
   "execution_count": 5,
   "id": "1317a114-d5c2-4a59-851c-22f8a9f80603",
   "metadata": {},
   "outputs": [],
   "source": [
    "RPi.GPIO.add_event_detect(11, RPi.GPIO.RISING)"
   ]
  },
  {
   "cell_type": "code",
   "execution_count": 6,
   "id": "7d36a35b-3f13-453b-832e-eeea299a0b70",
   "metadata": {},
   "outputs": [
    {
     "data": {
      "text/plain": [
       "True"
      ]
     },
     "execution_count": 6,
     "metadata": {},
     "output_type": "execute_result"
    }
   ],
   "source": [
    "RPi.GPIO.event_detected(11)"
   ]
  },
  {
   "cell_type": "code",
   "execution_count": 7,
   "id": "87277285-99be-4217-8404-d7b1b62d0c98",
   "metadata": {},
   "outputs": [],
   "source": [
    "class Callback:\n",
    "    def __init__(self, channel):\n",
    "        self.channel = channel\n",
    "        self.times = []\n",
    "\n",
    "    def __call__(self, channel):\n",
    "        self.times.append(time.time())"
   ]
  },
  {
   "cell_type": "code",
   "execution_count": 8,
   "id": "a587c8a4-2e9c-4f61-8ebd-5fcc995b732b",
   "metadata": {},
   "outputs": [],
   "source": [
    "callback = Callback(11)\n",
    "RPi.GPIO.add_event_callback(11, callback)"
   ]
  },
  {
   "cell_type": "code",
   "execution_count": 9,
   "id": "f2242623-7447-40d6-affd-b771a76b55f9",
   "metadata": {},
   "outputs": [],
   "source": [
    "times = np.array(callback.times)"
   ]
  },
  {
   "cell_type": "code",
   "execution_count": 10,
   "id": "a728ed05-7157-4682-b064-4ec0581d2018",
   "metadata": {},
   "outputs": [
    {
     "data": {
      "text/plain": [
       "74"
      ]
     },
     "execution_count": 10,
     "metadata": {},
     "output_type": "execute_result"
    }
   ],
   "source": [
    "len(times)"
   ]
  },
  {
   "cell_type": "code",
   "execution_count": 11,
   "id": "5bcc71d6-7634-4bd7-ac52-3dd14d173810",
   "metadata": {},
   "outputs": [
    {
     "data": {
      "text/plain": [
       "array([0.04169941, 0.04181552, 0.0415504 , 0.04170275, 0.04175115,\n",
       "       0.04158163, 0.04165006, 0.04163027, 0.04157996, 0.04167032,\n",
       "       0.0416553 , 0.04165006, 0.04170322, 0.04165816, 0.04164243,\n",
       "       0.04166198, 0.0416646 , 0.04166555, 0.04168963, 0.04169631,\n",
       "       0.04165292, 0.04164648, 0.04167032, 0.04165673, 0.04170227,\n",
       "       0.04165196, 0.04165435, 0.04198122, 0.04168034, 0.0414362 ,\n",
       "       0.0417726 , 0.04185772, 0.04143429, 0.04168081, 0.04214716,\n",
       "       0.04106736, 0.04192758, 0.04156423, 0.04147267, 0.04170275,\n",
       "       0.04159999, 0.04166484, 0.04168773, 0.04165649, 0.04166412,\n",
       "       0.04175067, 0.04166913, 0.04166794, 0.0416081 , 0.04180765,\n",
       "       0.04159808, 0.04159617, 0.04167295, 0.04166317, 0.04166484,\n",
       "       0.04167986, 0.04164815, 0.04165363, 0.04168701, 0.041749  ,\n",
       "       0.0415895 , 0.04167223, 0.04165983, 0.04167104, 0.04164171,\n",
       "       0.04168391, 0.04163885, 0.04170156, 0.04164338, 0.04166937,\n",
       "       0.04166961, 0.04167461, 0.04167271])"
      ]
     },
     "execution_count": 11,
     "metadata": {},
     "output_type": "execute_result"
    }
   ],
   "source": [
    "np.diff(times)"
   ]
  },
  {
   "cell_type": "code",
   "execution_count": 12,
   "id": "ad04455b-44dc-455c-8adf-95e5ff9ea582",
   "metadata": {},
   "outputs": [
    {
     "data": {
      "text/plain": [
       "np.float64(0.00017840717148538262)"
      ]
     },
     "execution_count": 12,
     "metadata": {},
     "output_type": "execute_result"
    }
   ],
   "source": [
    "np.std(np.diff(times))"
   ]
  },
  {
   "cell_type": "code",
   "execution_count": 13,
   "id": "857bd929-ffb7-4164-b1c4-5838a0eaf5f4",
   "metadata": {},
   "outputs": [
    {
     "data": {
      "text/plain": [
       "np.float64(24.000683844030448)"
      ]
     },
     "execution_count": 13,
     "metadata": {},
     "output_type": "execute_result"
    }
   ],
   "source": [
    "np.mean(1/np.diff(times))"
   ]
  },
  {
   "cell_type": "code",
   "execution_count": null,
   "id": "e76fe8b4-6fc4-4e7e-b8e9-490deba632d1",
   "metadata": {},
   "outputs": [],
   "source": []
  }
 ],
 "metadata": {
  "kernelspec": {
   "display_name": "Python 3 (ipykernel)",
   "language": "python",
   "name": "python3"
  },
  "language_info": {
   "codemirror_mode": {
    "name": "ipython",
    "version": 3
   },
   "file_extension": ".py",
   "mimetype": "text/x-python",
   "name": "python",
   "nbconvert_exporter": "python",
   "pygments_lexer": "ipython3",
   "version": "3.11.2"
  }
 },
 "nbformat": 4,
 "nbformat_minor": 5
}
