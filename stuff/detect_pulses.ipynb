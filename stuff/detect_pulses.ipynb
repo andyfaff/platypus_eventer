{
 "cells": [
  {
   "cell_type": "code",
   "execution_count": 1,
   "id": "84809c35-96b9-47cb-bc8e-5a95b2ba63b8",
   "metadata": {},
   "outputs": [],
   "source": [
    "import RPi.GPIO\n",
    "import numpy as np\n",
    "import time"
   ]
  },
  {
   "cell_type": "code",
   "execution_count": 2,
   "id": "d388d1a5-23b5-44be-b3eb-0c1bd0214c91",
   "metadata": {},
   "outputs": [],
   "source": [
    "RPi.GPIO.setmode(RPi.GPIO.BOARD)"
   ]
  },
  {
   "cell_type": "code",
   "execution_count": 3,
   "id": "3ecd2cbe-414d-4af8-8f9d-75273aa85757",
   "metadata": {},
   "outputs": [
    {
     "data": {
      "text/plain": [
       "10"
      ]
     },
     "execution_count": 3,
     "metadata": {},
     "output_type": "execute_result"
    }
   ],
   "source": [
    "RPi.GPIO.getmode()"
   ]
  },
  {
   "cell_type": "code",
   "execution_count": 4,
   "id": "82b0ed7a-3ca9-49c6-8d65-ee21bcceaa29",
   "metadata": {},
   "outputs": [],
   "source": [
    "PIN = 13"
   ]
  },
  {
   "cell_type": "code",
   "execution_count": 5,
   "id": "fb02454a-3243-423b-8faa-646b9c09a460",
   "metadata": {},
   "outputs": [],
   "source": [
    "RPi.GPIO.setup(PIN, RPi.GPIO.IN, pull_up_down=RPi.GPIO.PUD_OFF)"
   ]
  },
  {
   "cell_type": "code",
   "execution_count": 6,
   "id": "1317a114-d5c2-4a59-851c-22f8a9f80603",
   "metadata": {},
   "outputs": [],
   "source": [
    "RPi.GPIO.add_event_detect(PIN, RPi.GPIO.RISING,bouncetime=1)"
   ]
  },
  {
   "cell_type": "code",
   "execution_count": 7,
   "id": "7d36a35b-3f13-453b-832e-eeea299a0b70",
   "metadata": {},
   "outputs": [
    {
     "data": {
      "text/plain": [
       "True"
      ]
     },
     "execution_count": 7,
     "metadata": {},
     "output_type": "execute_result"
    }
   ],
   "source": [
    "RPi.GPIO.event_detected(PIN)"
   ]
  },
  {
   "cell_type": "code",
   "execution_count": 10,
   "id": "8a3f7ee9-a092-4ae5-a645-1cd50e6f34da",
   "metadata": {},
   "outputs": [
    {
     "data": {
      "text/plain": [
       "0"
      ]
     },
     "execution_count": 10,
     "metadata": {},
     "output_type": "execute_result"
    }
   ],
   "source": [
    "RPi.GPIO.input(PIN)"
   ]
  },
  {
   "cell_type": "code",
   "execution_count": 11,
   "id": "87277285-99be-4217-8404-d7b1b62d0c98",
   "metadata": {},
   "outputs": [],
   "source": [
    "class Callback:\n",
    "    def __init__(self, channel):\n",
    "        self.channel = channel\n",
    "        self.times = []\n",
    "\n",
    "    def __call__(self, channel):\n",
    "        self.times.append(time.time())"
   ]
  },
  {
   "cell_type": "code",
   "execution_count": 12,
   "id": "a587c8a4-2e9c-4f61-8ebd-5fcc995b732b",
   "metadata": {},
   "outputs": [],
   "source": [
    "callback = Callback(PIN)\n",
    "RPi.GPIO.add_event_callback(PIN, callback)"
   ]
  },
  {
   "cell_type": "code",
   "execution_count": 19,
   "id": "f2242623-7447-40d6-affd-b771a76b55f9",
   "metadata": {},
   "outputs": [],
   "source": [
    "times = np.array(callback.times)"
   ]
  },
  {
   "cell_type": "code",
   "execution_count": 20,
   "id": "a728ed05-7157-4682-b064-4ec0581d2018",
   "metadata": {},
   "outputs": [
    {
     "data": {
      "text/plain": [
       "23"
      ]
     },
     "execution_count": 20,
     "metadata": {},
     "output_type": "execute_result"
    }
   ],
   "source": [
    "len(times)"
   ]
  },
  {
   "cell_type": "code",
   "execution_count": 21,
   "id": "5bcc71d6-7634-4bd7-ac52-3dd14d173810",
   "metadata": {},
   "outputs": [
    {
     "data": {
      "text/plain": [
       "array([0.1580956 , 0.16667175, 0.16664696, 0.16672325, 0.16685033,\n",
       "       0.16652012, 0.16774678, 0.16619253, 0.16598415, 0.16667628,\n",
       "       0.16666651, 0.16668558, 0.16711354, 0.33291769, 0.16678715,\n",
       "       0.33356142, 0.16639948, 0.16777062, 0.16627479, 0.33247662,\n",
       "       0.1668613 , 0.16651297])"
      ]
     },
     "execution_count": 21,
     "metadata": {},
     "output_type": "execute_result"
    }
   ],
   "source": [
    "np.diff(times)"
   ]
  },
  {
   "cell_type": "code",
   "execution_count": 22,
   "id": "ad04455b-44dc-455c-8adf-95e5ff9ea582",
   "metadata": {},
   "outputs": [
    {
     "data": {
      "text/plain": [
       "np.float64(0.05724117227679048)"
      ]
     },
     "execution_count": 22,
     "metadata": {},
     "output_type": "execute_result"
    }
   ],
   "source": [
    "np.std(np.diff(times))"
   ]
  },
  {
   "cell_type": "code",
   "execution_count": 17,
   "id": "857bd929-ffb7-4164-b1c4-5838a0eaf5f4",
   "metadata": {},
   "outputs": [
    {
     "data": {
      "text/plain": [
       "np.float64(24.000563326092703)"
      ]
     },
     "execution_count": 17,
     "metadata": {},
     "output_type": "execute_result"
    }
   ],
   "source": [
    "np.mean(1/np.diff(times))"
   ]
  },
  {
   "cell_type": "code",
   "execution_count": null,
   "id": "e76fe8b4-6fc4-4e7e-b8e9-490deba632d1",
   "metadata": {},
   "outputs": [],
   "source": []
  }
 ],
 "metadata": {
  "kernelspec": {
   "display_name": "Python 3 (ipykernel)",
   "language": "python",
   "name": "python3"
  },
  "language_info": {
   "codemirror_mode": {
    "name": "ipython",
    "version": 3
   },
   "file_extension": ".py",
   "mimetype": "text/x-python",
   "name": "python",
   "nbconvert_exporter": "python",
   "pygments_lexer": "ipython3",
   "version": "3.11.2"
  }
 },
 "nbformat": 4,
 "nbformat_minor": 5
}
