{
 "cells": [
  {
   "cell_type": "code",
   "execution_count": 7,
   "id": "39c0595a-6a38-4abb-b705-abcd0f1ed9d0",
   "metadata": {},
   "outputs": [],
   "source": [
    "import spidev\n",
    "import time\n",
    "import os\n",
    "import numpy as np\n",
    "import matplotlib.pyplot as plt\n",
    " \n",
    "# Open SPI bus\n",
    "spi = spidev.SpiDev()\n",
    "spi.open(0, 0)\n",
    "spi.max_speed_hz=1000000"
   ]
  },
  {
   "cell_type": "code",
   "execution_count": 8,
   "id": "8a8c81c5-c74e-4949-932b-75f0e4be7fdf",
   "metadata": {},
   "outputs": [],
   "source": [
    "def read_channel(channel):\n",
    "  adc = spi.xfer2([1, (8 + channel)<<4, 0])\n",
    "  data = ((adc[1] & 3) << 8) + adc[2]\n",
    "  return data"
   ]
  },
  {
   "cell_type": "code",
   "execution_count": 9,
   "id": "2865befa-aa41-4117-b02e-3b63667aa857",
   "metadata": {},
   "outputs": [],
   "source": [
    "def convert_volts(data):\n",
    "  volts = (data * 3.3) / float(1023)\n",
    "  return volts"
   ]
  },
  {
   "cell_type": "code",
   "execution_count": 10,
   "id": "51ca23bc-a992-4125-8f1b-b0791a927a05",
   "metadata": {},
   "outputs": [
    {
     "data": {
      "text/plain": [
       "0.27741935483870966"
      ]
     },
     "execution_count": 10,
     "metadata": {},
     "output_type": "execute_result"
    }
   ],
   "source": [
    "light_level = read_channel(0)\n",
    "light_volts = convert_volts(light_level)\n",
    "light_volts"
   ]
  },
  {
   "cell_type": "code",
   "execution_count": 12,
   "id": "fb3a6636-e301-4d97-b8e8-62ad4e7c67aa",
   "metadata": {},
   "outputs": [],
   "source": [
    "v = []\n",
    "for i in range(5000):\n",
    "    time.sleep(0.0025)\n",
    "    light_level = read_channel(0)\n",
    "    light_volts = convert_volts(light_level)\n",
    "    v.append(light_volts)\n",
    "    # print(light_level)"
   ]
  },
  {
   "cell_type": "code",
   "execution_count": null,
   "id": "c9f152ab-9051-4038-9592-2273077ef531",
   "metadata": {},
   "outputs": [],
   "source": [
    "np.max(v"
   ]
  },
  {
   "cell_type": "code",
   "execution_count": 14,
   "id": "4299a19d-2ecd-4467-b8d8-e43c726d12a2",
   "metadata": {},
   "outputs": [
    {
     "data": {
      "text/plain": [
       "[<matplotlib.lines.Line2D at 0x7ffeec4bc190>]"
      ]
     },
     "execution_count": 14,
     "metadata": {},
     "output_type": "execute_result"
    },
    {
     "data": {
      "image/png": "[encoded data removed]",
      "text/plain": [
       "<Figure size 640x480 with 1 Axes>"
      ]
     },
     "metadata": {},
     "output_type": "display_data"
    }
   ],
   "source": [
    "plt.plot(np.arange(5000) * 0.0025, v)\n"
   ]
  },
  {
   "cell_type": "code",
   "execution_count": 3,
   "id": "c98d0368-2f50-412d-b212-6dcf12d3d326",
   "metadata": {},
   "outputs": [
    {
     "data": {
      "text/plain": [
       "array([0.   , 0.004, 0.008, 0.012, 0.016, 0.02 , 0.024, 0.028, 0.032,\n",
       "       0.036])"
      ]
     },
     "execution_count": 3,
     "metadata": {},
     "output_type": "execute_result"
    }
   ],
   "source": [
    "import numpy as np\n",
    "np.linspace(0, 0.04, 10, endpoint=False)"
   ]
  },
  {
   "cell_type": "code",
   "execution_count": 26,
   "id": "4f9209ba-cffd-4671-ad68-ad96b300816b",
   "metadata": {},
   "outputs": [
    {
     "data": {
      "text/plain": [
       "0.24"
      ]
     },
     "execution_count": 26,
     "metadata": {},
     "output_type": "execute_result"
    }
   ],
   "source": [
    "120 * 0.002"
   ]
  },
  {
   "cell_type": "code",
   "execution_count": 4,
   "id": "81541897-5252-44c9-a92d-fd0e0e1ac2d9",
   "metadata": {},
   "outputs": [
    {
     "name": "stdout",
     "output_type": "stream",
     "text": [
      "0\n",
      "1\n",
      "2\n",
      "3\n",
      "4\n",
      "5\n",
      "6\n",
      "7\n",
      "8\n",
      "9\n"
     ]
    }
   ],
   "source": [
    "for i in range(10):\n",
    "    print(i)"
   ]
  },
  {
   "cell_type": "code",
   "execution_count": null,
   "id": "4469baaa-b7e2-45da-81c5-fe54fd73dc9e",
   "metadata": {},
   "outputs": [],
   "source": []
  }
 ],
 "metadata": {
  "kernelspec": {
   "display_name": "Python 3 (ipykernel)",
   "language": "python",
   "name": "python3"
  },
  "language_info": {
   "codemirror_mode": {
    "name": "ipython",
    "version": 3
   },
   "file_extension": ".py",
   "mimetype": "text/x-python",
   "name": "python",
   "nbconvert_exporter": "python",
   "pygments_lexer": "ipython3",
   "version": "3.11.2"
  }
 },
 "nbformat": 4,
 "nbformat_minor": 5
}
