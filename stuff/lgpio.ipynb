{
 "cells": [
  {
   "cell_type": "code",
   "execution_count": 1,
   "id": "f1dfff94-316f-4486-b123-37460663bd4b",
   "metadata": {},
   "outputs": [],
   "source": [
    "import lgpio as sbc\n",
    "import time\n",
    "import numpy as np\n",
    "import matplotlib.pyplot as plt"
   ]
  },
  {
   "cell_type": "code",
   "execution_count": 2,
   "id": "e327fee6-f4ac-4e3c-9670-4595ea498a3e",
   "metadata": {},
   "outputs": [],
   "source": [
    "channel = 17\n",
    "chip = sbc.gpiochip_open(0)"
   ]
  },
  {
   "cell_type": "code",
   "execution_count": 3,
   "id": "6f65394c-8b63-437f-8089-bfb5bd03f68a",
   "metadata": {},
   "outputs": [
    {
     "data": {
      "text/plain": [
       "0"
      ]
     },
     "execution_count": 3,
     "metadata": {},
     "output_type": "execute_result"
    }
   ],
   "source": [
    "sbc.gpio_claim_input(chip, channel, sbc.SET_PULL_NONE)\n",
    "sbc.gpio_claim_alert(chip, channel, sbc.RISING_EDGE)\n",
    "sbc.gpio_set_watchdog_micros(chip, channel, 70000)"
   ]
  },
  {
   "cell_type": "code",
   "execution_count": 4,
   "id": "208b0bf4-d33b-4947-8153-ec2eaf13f55d",
   "metadata": {},
   "outputs": [],
   "source": [
    "class Callback:\n",
    "    def __init__(self, chip, channel):\n",
    "        self.chip = chip\n",
    "        self.channel = channel\n",
    "        self.times = []\n",
    "        self.cb = sbc.callback(chip, channel, sbc.RISING_EDGE, self.__call__)\n",
    "\n",
    "    def __call__(self, chip, channel, level, tick):\n",
    "        if level == sbc.TIMEOUT:\n",
    "            print(\"TIMEOUT\")\n",
    "        self.times.append(time.time_ns())"
   ]
  },
  {
   "cell_type": "code",
   "execution_count": 5,
   "id": "f7544cd7-2083-4bce-b1c1-10c53f4dce26",
   "metadata": {},
   "outputs": [],
   "source": [
    "cb = Callback(chip, channel)"
   ]
  },
  {
   "cell_type": "code",
   "execution_count": 33,
   "id": "c613f11b-3ff3-4b31-aef1-0675f6c2a0b5",
   "metadata": {},
   "outputs": [
    {
     "data": {
      "text/plain": [
       "(np.float64(0.015383503), np.float64(0.061780922), 32578)"
      ]
     },
     "execution_count": 33,
     "metadata": {},
     "output_type": "execute_result"
    }
   ],
   "source": [
    "diff = np.diff(cb.times) / 1e9\n",
    "np.min(diff), np.max(diff), len(cb.times)"
   ]
  },
  {
   "cell_type": "code",
   "execution_count": 34,
   "id": "21de161b-0700-4dbe-af96-11ea5679850d",
   "metadata": {},
   "outputs": [
    {
     "data": {
      "text/plain": [
       "[<matplotlib.lines.Line2D at 0x7ffec044b1d0>]"
      ]
     },
     "execution_count": 34,
     "metadata": {},
     "output_type": "execute_result"
    },
    {
     "data": {
      "image/png": "[encoded data removed]",
      "text/plain": [
       "<Figure size 640x480 with 1 Axes>"
      ]
     },
     "metadata": {},
     "output_type": "display_data"
    }
   ],
   "source": [
    "plt.plot(diff)"
   ]
  },
  {
   "cell_type": "code",
   "execution_count": 35,
   "id": "80051e53-f6cb-4441-9e48-e6783578cda0",
   "metadata": {},
   "outputs": [
    {
     "data": {
      "text/plain": [
       "0"
      ]
     },
     "execution_count": 35,
     "metadata": {},
     "output_type": "execute_result"
    }
   ],
   "source": [
    "cb.cb.cancel()\n",
    "sbc.gpio_free(chip, 17)\n",
    "sbc.gpiochip_close(chip)"
   ]
  },
  {
   "cell_type": "code",
   "execution_count": 29,
   "id": "d2009758-1e18-4b88-9d89-2768a7742471",
   "metadata": {},
   "outputs": [
    {
     "ename": "error",
     "evalue": "'unknown handle'",
     "output_type": "error",
     "traceback": [
      "\u001b[31m---------------------------------------------------------------------------\u001b[39m",
      "\u001b[31merror\u001b[39m                                     Traceback (most recent call last)",
      "\u001b[36mCell\u001b[39m\u001b[36m \u001b[39m\u001b[32mIn[29]\u001b[39m\u001b[32m, line 1\u001b[39m\n\u001b[32m----> \u001b[39m\u001b[32m1\u001b[39m \u001b[43msbc\u001b[49m\u001b[43m.\u001b[49m\u001b[43mgpio_read\u001b[49m\u001b[43m(\u001b[49m\u001b[43mchip\u001b[49m\u001b[43m,\u001b[49m\u001b[43m \u001b[49m\u001b[32;43m17\u001b[39;49m\u001b[43m)\u001b[49m\n",
      "\u001b[36mFile \u001b[39m\u001b[32m~/dev3/lib/python3.11/site-packages/lgpio.py:903\u001b[39m, in \u001b[36mgpio_read\u001b[39m\u001b[34m(handle, gpio)\u001b[39m\n\u001b[32m    887\u001b[39m \u001b[38;5;28;01mdef\u001b[39;00m\u001b[38;5;250m \u001b[39m\u001b[34mgpio_read\u001b[39m(handle, gpio):\n\u001b[32m    888\u001b[39m \u001b[38;5;250m   \u001b[39m\u001b[33;03m\"\"\"\u001b[39;00m\n\u001b[32m    889\u001b[39m \u001b[33;03m   This returns the level of a GPIO.\u001b[39;00m\n\u001b[32m    890\u001b[39m \n\u001b[32m   (...)\u001b[39m\u001b[32m    901\u001b[39m \n\u001b[32m    902\u001b[39m \u001b[33;03m   \"\"\"\u001b[39;00m\n\u001b[32m--> \u001b[39m\u001b[32m903\u001b[39m    \u001b[38;5;28;01mreturn\u001b[39;00m \u001b[43m_u2i\u001b[49m\u001b[43m(\u001b[49m\u001b[43m_lgpio\u001b[49m\u001b[43m.\u001b[49m\u001b[43m_gpio_read\u001b[49m\u001b[43m(\u001b[49m\u001b[43mhandle\u001b[49m\u001b[43m&\u001b[49m\u001b[32;43m0xffff\u001b[39;49m\u001b[43m,\u001b[49m\u001b[43m \u001b[49m\u001b[43mgpio\u001b[49m\u001b[43m)\u001b[49m\u001b[43m)\u001b[49m\n",
      "\u001b[36mFile \u001b[39m\u001b[32m~/dev3/lib/python3.11/site-packages/lgpio.py:458\u001b[39m, in \u001b[36m_u2i\u001b[39m\u001b[34m(status)\u001b[39m\n\u001b[32m    456\u001b[39m \u001b[38;5;28;01mif\u001b[39;00m v < \u001b[32m0\u001b[39m:\n\u001b[32m    457\u001b[39m    \u001b[38;5;28;01mif\u001b[39;00m exceptions:\n\u001b[32m--> \u001b[39m\u001b[32m458\u001b[39m       \u001b[38;5;28;01mraise\u001b[39;00m error(error_text(v))\n\u001b[32m    459\u001b[39m \u001b[38;5;28;01mreturn\u001b[39;00m v\n",
      "\u001b[31merror\u001b[39m: 'unknown handle'"
     ]
    }
   ],
   "source": [
    "sbc.gpio_read(chip, 17)"
   ]
  },
  {
   "cell_type": "code",
   "execution_count": null,
   "id": "9e05175e-3054-4e55-8a6b-3d7c6ea408ee",
   "metadata": {},
   "outputs": [],
   "source": []
  }
 ],
 "metadata": {
  "kernelspec": {
   "display_name": "Python 3 (ipykernel)",
   "language": "python",
   "name": "python3"
  },
  "language_info": {
   "codemirror_mode": {
    "name": "ipython",
    "version": 3
   },
   "file_extension": ".py",
   "mimetype": "text/x-python",
   "name": "python",
   "nbconvert_exporter": "python",
   "pygments_lexer": "ipython3",
   "version": "3.11.2"
  }
 },
 "nbformat": 4,
 "nbformat_minor": 5
}
