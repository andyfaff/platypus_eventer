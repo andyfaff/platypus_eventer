{
 "cells": [
  {
   "cell_type": "code",
   "execution_count": 2,
   "id": "28cc64f2-cf34-4f8a-91ec-4f408a03ae1d",
   "metadata": {},
   "outputs": [],
   "source": []
  },
  {
   "cell_type": "code",
   "execution_count": 4,
   "id": "6ea96c6c-7d60-409e-ae42-c39672646173",
   "metadata": {},
   "outputs": [],
   "source": [
    "import threading\n",
    "import time\n",
    "import urllib.request\n",
    "import numpy as np\n",
    "import matplotlib.pyplot as plt\n",
    "\n",
    "def parse_status(txt):\n",
    "    output = dict()\n",
    "    units = dict()\n",
    "    for line in txt.split(\"\\n\"):\n",
    "        if not line:\n",
    "            # EOF\n",
    "            break\n",
    "        key, val = line.split(\":\")\n",
    "        val = val.strip(\"\\n \")\n",
    "        bits = val.partition(\" \")\n",
    "        output[key] = parse_val(bits[0])\n",
    "        units[key] = bits[-1]\n",
    "            \n",
    "    return output, units\n",
    "\n",
    "def parse_val(v):\n",
    "    try:\n",
    "        if \".\" in v:\n",
    "            val = float(v)\n",
    "            return val\n",
    "    except ValueError:\n",
    "        pass\n",
    "\n",
    "    try:\n",
    "        val = int(v)\n",
    "        return val\n",
    "    except ValueError:\n",
    "        pass\n",
    "\n",
    "    return v\n",
    "\n",
    "\n",
    "class Status:\n",
    "    url = \"http://localhost:60001/admin/textstatus.egi\"\n",
    "\n",
    "    def __init__(self, auth_user, auth_passwd=\"):\n",
    "        self.time = []\n",
    "        self.passman = urllib.request.HTTPPasswordMgrWithDefaultRealm()\n",
    "        self.passman.add_password(None, self.url, auth_user, auth_passwd)\n",
    "        self.authhandler = urllib.request.HTTPBasicAuthHandler(self.passman)\n",
    "        self.opener = urllib.request.build_opener(self.authhandler)\n",
    "        urllib.request.install_opener(self.opener)\n",
    "\n",
    "    def __call__(self):\n",
    "        start = time.perf_counter()\n",
    "        with urllib.request.urlopen(self.url, timeout=5) as response:\n",
    "            txt = response.read().decode(\"UTF-8\")\n",
    "        stop = time.perf_counter()\n",
    "        self.time.append(stop - start)\n",
    "        return txt"
   ]
  },
  {
   "cell_type": "code",
   "execution_count": 169,
   "id": "19e50194-3794-4cd6-a0d6-617fca699598",
   "metadata": {},
   "outputs": [],
   "source": [
    "ev = threading.Event()\n",
    "freq = 24\n",
    "period = 1. / freq\n",
    "s = Status()\n",
    "dataset_start_time_t = []\n",
    "acq_dataset_active_sec = []\n",
    "current_frame = []\n",
    "predicted_frame = []"
   ]
  },
  {
   "cell_type": "code",
   "execution_count": 170,
   "id": "5b21c699-079d-48c7-b792-16e0fed24f80",
   "metadata": {},
   "outputs": [],
   "source": [
    "class BackgroundTasks(threading.Thread):\n",
    "    def run(self, *args, **kwargs):\n",
    "        s, c, d, e, f = self._args\n",
    "        while True:\n",
    "            time.sleep(0.5)\n",
    "            output, units = parse_status(s());\n",
    "            c.append(output['dataset_start_time_t'])\n",
    "            d.append(output['acq_dataset_active_sec'])\n",
    "            e.append(output['current_frame'])\n",
    "            elapsed = time.time() - c[0] - 0.05\n",
    "            f.append(int(np.floor(elapsed/period)))\n",
    "            \n",
    "            if ev.is_set():\n",
    "                break\n",
    "\n",
    "t = BackgroundTasks(\n",
    "    args=(s, dataset_start_time_t, acq_dataset_active_sec, current_frame, predicted_frame)\n",
    ")\n",
    "t.start()"
   ]
  },
  {
   "cell_type": "code",
   "execution_count": 221,
   "id": "b5be6a65-5aa8-47c8-876d-ebc0679e1178",
   "metadata": {},
   "outputs": [],
   "source": [
    "ev.set()"
   ]
  },
  {
   "cell_type": "code",
   "execution_count": 218,
   "id": "7ec1df25-57a8-4313-9013-72ff72bd1683",
   "metadata": {},
   "outputs": [
    {
     "data": {
      "text/plain": [
       "array([ 0,  0,  0,  0, -1, -1,  0, -1,  0,  0,  0,  0,  0,  0,  1,  0,  0,\n",
       "        0,  0,  0,  0,  0,  0,  0,  0,  0,  0,  0,  0,  0,  0, -1,  0,  0,\n",
       "        0,  0,  0,  0,  0,  0,  0,  0,  0, -1,  0,  0,  0, -1,  0,  0,  0,\n",
       "        0,  0,  0,  0,  0,  0,  0,  0,  0, -1,  0,  0,  0,  0,  0,  0,  0,\n",
       "        0,  0,  0,  0,  0,  0,  0,  0,  0,  0,  0,  0,  0,  1,  0,  0,  0,\n",
       "        0,  0,  0,  0,  0,  0,  0,  0,  0,  0,  0,  0,  0,  0,  0,  0,  0,\n",
       "        0,  0,  0,  0,  0,  0,  0,  0,  0,  0,  0,  0,  0, -1,  0,  0,  0,\n",
       "        0, -1,  0,  0,  0,  0,  0,  0,  0,  0,  0,  0,  0,  0,  0,  0,  0,\n",
       "        0,  0,  0,  0,  0,  1,  0,  0,  0,  0,  0,  0,  0,  0,  0,  0,  0,\n",
       "       -1,  0,  0,  0,  0,  0,  0,  0,  0,  0,  0,  0,  0,  0,  0,  0,  0,\n",
       "        0,  0,  0,  0,  0,  0,  0,  0,  0,  2,  1,  0,  0,  0,  0,  0,  0,\n",
       "        0,  0,  0,  0,  0,  0,  0,  0,  0,  0,  0, -1,  0,  0,  0,  0,  0,\n",
       "        0,  0,  0,  0,  0,  0,  0,  0,  0,  0,  0,  0,  0,  0,  0,  0,  0,\n",
       "        1,  0,  0,  0,  0,  0,  0,  0,  0,  0,  0,  0,  0,  0,  0,  0,  0,\n",
       "        0,  0,  0,  0,  0,  0,  0,  1,  0,  0,  0,  0,  0,  0,  0,  0,  0,\n",
       "        0,  0,  0,  0,  0,  0,  1,  0,  0,  0,  0,  1,  0,  0,  1,  2,  0,\n",
       "        0,  0,  0,  0,  0,  2,  0,  0,  0,  0,  0,  0,  0,  0,  0,  0,  0,\n",
       "        0,  0,  0,  0,  0,  0,  0,  0,  0, -1,  0,  0,  0,  1,  0,  0,  0,\n",
       "        0,  0,  0,  0,  0,  0,  0,  0,  1, -1,  0,  0,  0,  0,  0,  0,  0,\n",
       "        0,  0,  0,  0,  0,  0,  0,  0,  0,  0,  0,  1,  0,  0,  0,  0,  0,\n",
       "        0,  0,  1,  0,  0,  0,  0,  0,  0,  0,  0,  0,  0,  0,  0,  0,  0,\n",
       "        0,  0,  0,  0,  0, -1,  0,  0,  0,  0,  0,  1,  0,  0,  0,  0,  0,\n",
       "       -1,  0,  0,  0,  0,  0,  0,  0,  0,  0, -1, -1,  0, -1, -1,  0,  0,\n",
       "        0,  0,  0, -1,  0, -1,  0,  0,  0,  0,  0,  0,  0,  0,  0,  0,  0,\n",
       "        0, -1,  0,  0,  0,  0, -1,  0,  0,  0,  0,  0,  0,  0,  0,  0,  0,\n",
       "        0,  0,  0,  0, -1,  0,  0,  0,  0,  0,  0,  0,  0,  0, -1,  0,  0,\n",
       "        0,  0,  0, -1,  0,  0,  0,  0,  0,  0,  0,  0,  0, -1,  0, -1,  0,\n",
       "        0, -1,  0,  0, -1,  0, -1, -1,  0,  0,  0,  0,  0, -1,  0, -1,  0,\n",
       "        0, -1,  0, -1,  0,  0,  0,  0,  0,  0,  0,  0,  0,  0, -1,  0, -1,\n",
       "       -1,  0,  0,  0,  0, -1,  0,  0,  1,  0,  0, -1, -1,  0,  0, -1, -1,\n",
       "        0,  0,  0,  0,  0,  0, -1, -1, -1,  0,  0,  0,  0,  0,  1,  0,  0,\n",
       "        1,  1,  0, -1, -1,  0, -1,  0,  0,  0,  0,  0,  0,  0,  0,  0,  0,\n",
       "        0,  0,  0,  0, -1,  0,  0,  0,  0,  0,  0,  0,  0, -1,  0,  0,  0,\n",
       "       -1,  0,  0,  0,  0,  0, -1,  0, -1,  0,  0,  0,  0, -1,  0,  0, -1,\n",
       "        0,  0,  0,  2,  0,  0,  0, -1, -1, -1,  0,  0,  0,  0, -1, -1,  0,\n",
       "        0,  0, -1,  0,  0,  0,  0,  0,  0,  0,  1,  0, -1,  0,  0,  0,  0,\n",
       "       -1, -1,  0,  0,  0,  0,  0,  0,  0,  1, -1,  0,  0,  0, -1, -1, -1,\n",
       "       -1, -1,  0,  0,  0, -1,  0, -1,  0, -1,  0,  0, -1,  0,  0, -1,  0,\n",
       "        0, -1,  0,  0,  0,  0,  0,  0,  0,  0,  0,  0, -1,  0,  0, -1,  0,\n",
       "        0, -1,  0,  0,  0,  0,  0, -1,  0,  0,  0, -1,  1,  0,  0,  0, -1,\n",
       "        0,  0,  0,  0,  0,  0,  0,  0,  1, -1,  0,  0,  0,  0,  0,  0,  0,\n",
       "        0,  0, -1, -1,  0,  0,  0,  0,  0,  0,  0,  1,  0,  0,  0,  0,  0,\n",
       "        0,  0, -1, -1,  0,  0,  1,  0, -1,  0,  0,  0,  0, -1,  0,  0,  0,\n",
       "        0,  0,  0,  0,  0,  0,  0,  0,  0,  0,  0,  0,  0,  0, -1,  1,  0,\n",
       "        0,  0,  0,  0,  0,  0,  0,  1,  0,  1,  2,  4,  0,  1,  0, -1,  0,\n",
       "        0,  0,  0, -1, -1,  0,  0,  0,  0,  0,  0,  0,  0, -1,  1,  1,  1,\n",
       "        1,  0,  1,  0,  0,  0])"
      ]
     },
     "execution_count": 218,
     "metadata": {},
     "output_type": "execute_result"
    }
   ],
   "source": [
    "np.array(predicted_frame) - np.array(current_frame)"
   ]
  },
  {
   "cell_type": "code",
   "execution_count": 219,
   "id": "07672042-e27e-4d7b-924c-d884f29d3f44",
   "metadata": {},
   "outputs": [
    {
     "data": {
      "image/png": "[encoded data removed]",
      "text/plain": [
       "<Figure size 640x480 with 1 Axes>"
      ]
     },
     "metadata": {},
     "output_type": "display_data"
    }
   ],
   "source": [
    "plt.plot(acq_dataset_active_sec, current_frame);"
   ]
  },
  {
   "cell_type": "code",
   "execution_count": 220,
   "id": "6f486140-e8d2-44e0-8a09-6285440e8c1c",
   "metadata": {},
   "outputs": [
    {
     "data": {
      "text/plain": [
       "(array([23.99981258, -0.04485999]),\n",
       " array([[ 3.69277130e-09, -1.52247775e-06],\n",
       "        [-1.52247775e-06,  7.33564995e-04]]))"
      ]
     },
     "execution_count": 220,
     "metadata": {},
     "output_type": "execute_result"
    }
   ],
   "source": [
    "np.polyfit(\n",
    "    np.array(acq_dataset_active_sec) - 0.016, \n",
    "    np.array(current_frame),\n",
    "    deg=1,\n",
    "    cov=True\n",
    ")"
   ]
  },
  {
   "cell_type": "code",
   "execution_count": 178,
   "id": "ff4556d0-2d4b-45a6-957a-7a543aac1323",
   "metadata": {},
   "outputs": [
    {
     "data": {
      "text/plain": [
       "[<matplotlib.lines.Line2D at 0x109f47b60>]"
      ]
     },
     "execution_count": 178,
     "metadata": {},
     "output_type": "execute_result"
    },
    {
     "data": {
      "image/png": "[encoded data removed]",
      "text/plain": [
       "<Figure size 640x480 with 1 Axes>"
      ]
     },
     "metadata": {},
     "output_type": "display_data"
    }
   ],
   "source": [
    "freq = 24.\n",
    "period = 1 / freq\n",
    "acq = 600 # s\n",
    "frames = int(acq / period)\n",
    "\n",
    "rng = np.random.default_rng(119009)\n",
    "offsets = rng.uniform(high=period, size=frames)\n",
    "f0 = np.arange(frames)\n",
    "\n",
    "times = f0/24 + offsets\n",
    "plt.plot(times, f0)\n",
    "# plt.ylim(0, 40)\n",
    "# plt.xlim(0, 1.75);"
   ]
  },
  {
   "cell_type": "code",
   "execution_count": 176,
   "id": "259387d0-f8f7-493e-85ce-48c7cbe4c5bf",
   "metadata": {},
   "outputs": [
    {
     "data": {
      "text/plain": [
       "array([ 2.40000013e+01, -1.46609051e-03])"
      ]
     },
     "execution_count": 176,
     "metadata": {},
     "output_type": "execute_result"
    }
   ],
   "source": [
    "np.polyfit(times - period/2, f0, deg=1)"
   ]
  }
 ],
 "metadata": {
  "kernelspec": {
   "display_name": "Python 3 (ipykernel)",
   "language": "python",
   "name": "python3"
  },
  "language_info": {
   "codemirror_mode": {
    "name": "ipython",
    "version": 3
   },
   "file_extension": ".py",
   "mimetype": "text/x-python",
   "name": "python",
   "nbconvert_exporter": "python",
   "pygments_lexer": "ipython3",
   "version": "3.12.6"
  }
 },
 "nbformat": 4,
 "nbformat_minor": 5
}
