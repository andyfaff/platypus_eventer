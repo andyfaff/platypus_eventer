{
 "cells": [
  {
   "cell_type": "code",
   "execution_count": 6,
   "id": "bb2c9f45-eb4b-4055-9c4e-a061a3836f4b",
   "metadata": {},
   "outputs": [],
   "source": [
    "import threading\n",
    "import time\n",
    "import urllib.request\n",
    "from pathlib import Path\n",
    "\n",
    "from status import Status, parse_status"
   ]
  },
  {
   "cell_type": "code",
   "execution_count": 8,
   "id": "c6c1862f-8b9a-4440-86d7-ca9ede0d515a",
   "metadata": {},
   "outputs": [],
   "source": [
    "url = \"http://localhost:60001/admin/textstatus.egi\"\n",
    "\n",
    "def main(user, password=\"\", location=None, update_period=2.0):\n",
    "    if location is None:\n",
    "        location = Path.cwd()\n",
    "    s = Status(user, auth_passwd=password, url=url)\n",
    "\n",
    "    currently_acquiring = False\n",
    "    dataset_number = -1\n",
    "    DAQ_dirname = None\n",
    "\n",
    "    while True:\n",
    "        status, units = s()\n",
    "        \n",
    "        time.sleep(update_period)"
   ]
  },
  {
   "cell_type": "code",
   "execution_count": null,
   "id": "4d8ed8d1-ea2e-4bf9-8652-a0f52ab2afe0",
   "metadata": {},
   "outputs": [],
   "source": []
  }
 ],
 "metadata": {
  "kernelspec": {
   "display_name": "Python 3 (ipykernel)",
   "language": "python",
   "name": "python3"
  },
  "language_info": {
   "codemirror_mode": {
    "name": "ipython",
    "version": 3
   },
   "file_extension": ".py",
   "mimetype": "text/x-python",
   "name": "python",
   "nbconvert_exporter": "python",
   "pygments_lexer": "ipython3",
   "version": "3.11.2"
  }
 },
 "nbformat": 4,
 "nbformat_minor": 5
}
