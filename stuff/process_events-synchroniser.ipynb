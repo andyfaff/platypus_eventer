{
 "cells": [
  {
   "cell_type": "code",
   "execution_count": 14,
   "id": "e1c94d14-186b-47d7-a1b3-d6287e95dce0",
   "metadata": {},
   "outputs": [],
   "source": [
    "import gzip\n",
    "import numpy as np\n",
    "import struct\n",
    "import matplotlib.pyplot as plt\n",
    "from status import Status, parse_status\n",
    "from refnx.reduce.event import events"
   ]
  },
  {
   "cell_type": "code",
   "execution_count": 15,
   "id": "9c0bf258-7bd3-4bdc-9822-4856586d2b1d",
   "metadata": {},
   "outputs": [],
   "source": [
    "def event_sef(buf):\n",
    "    # get a list of events from the SEF based on a binary buffer\n",
    "    it = struct.iter_unpack(\">lQ2s\", buf)\n",
    "    return list(it)\n",
    "    \n",
    "def predicted_frame(ev):\n",
    "    # figures out which frame in the SEF corresponds to the first frame\n",
    "    # in the NEF\n",
    "    frames =  [ev[i][0] for i in range(len(ev)) if ev[i][-1] == b'\\x00~']\n",
    "    t0 = [ev[i][1] for i in range(len(ev)) if ev[i][-1] == b'\\x00~']\n",
    "    t4 = [ev[i][1] for i in range(len(ev)) if ev[i][-1] != b'\\x00~']\n",
    "    frames4 = [ev[i][0] for i in range(len(ev)) if ev[i][-1] == b'\\x00D']\n",
    "\n",
    "    idx = np.searchsorted(np.array(t0) / 1e9, dataset_start_time_t)\n",
    "    print(f\"array search: {int(idx)}, nearest time: {np.argmin(((np.array(t0)) / 1e9 - dataset_start_time_t)**2)}\")\n",
    "    return int(idx), np.squeeze(t0), np.squeeze(t4)\n",
    "\n",
    "def frame_with_first_neutrons(ev, period=4):\n",
    "    # predict the first frame in the NEF to have neutrons, if one of the\n",
    "    # choppers is running at a geared speed. This is predicted from the SEF\n",
    "    idx, t0, t4 = predicted_frame(ev)\n",
    "    \n",
    "    frames4 = [ev[i][0] for i in range(len(ev)) if ev[i][-1] == b'\\x00D'][0]\n",
    "    perfect_4 = np.arange(frames4, idx + period + 5, period)\n",
    "    actual_4_frame = np.searchsorted(perfect_4, idx)\n",
    "    return int(perfect_4[actual_4_frame] - idx)"
   ]
  },
  {
   "cell_type": "code",
   "execution_count": 17,
   "id": "05ceb71c-b049-4297-ac05-ad1781a73a5b",
   "metadata": {},
   "outputs": [],
   "source": [
    "LOC = 'DAQ_2025-06-19T11-36-57/'"
   ]
  },
  {
   "cell_type": "code",
   "execution_count": 18,
   "id": "660a5202-e49a-49af-9c40-05901a866686",
   "metadata": {},
   "outputs": [],
   "source": [
    "s = Status(\"manager\")\n",
    "status = parse_status(s.from_file(LOC))[0]\n",
    "dataset_start_time_t = status['dataset_start_time_t']\n",
    "\n",
    "with gzip.GzipFile(f'{LOC}/DATA_0/EOS.gz', 'rb') as f:\n",
    "    buf = f.read(1_000_000_000)"
   ]
  },
  {
   "cell_type": "code",
   "execution_count": 22,
   "id": "83b2bd69-720a-4fb8-9d5c-dd0333d6f256",
   "metadata": {},
   "outputs": [
    {
     "name": "stdout",
     "output_type": "stream",
     "text": [
      "array search: 48, nearest time: 48\n",
      "array search: 48, nearest time: 48\n",
      "3\n"
     ]
    }
   ],
   "source": [
    "ev = event_sef(buf)\n",
    "idx, t0, t4 = predicted_frame(ev)\n",
    "fwfn = frame_with_first_neutrons(ev)\n",
    "print(fwfn)"
   ]
  },
  {
   "cell_type": "code",
   "execution_count": 25,
   "id": "c42686b2-a675-487f-8c9b-72480c4a624e",
   "metadata": {},
   "outputs": [
    {
     "name": "stdout",
     "output_type": "stream",
     "text": [
      "[  3   7  11  15  19  23  27  31  35  39  43  47  51  55  59  63  67  71\n",
      "  75  79  83  87  91  95  99 103 107 111 115 119 123 127 131 135 139 143\n",
      " 147 151 155 159 163 167 171 175 179 183 187 191 195 199]\n",
      "[ 0  0  1 73  0  0  1 89  0  0  0 84  2  0  0 74  1  1  0 64  1  1  0 74\n",
      "  0  0  0 64  0  0  2 79  1  1  0 82  1  0  0 82  0  0  0 63  0  0  0 75\n",
      "  0  0]\n"
     ]
    }
   ],
   "source": [
    "nef = events(f\"{LOC}DATA_0/EOS.bin\")\n",
    "frames = nef[0][0]\n",
    "_idx = np.arange(max(frames) + 1)\n",
    "neut_per_frame = np.bincount(frames)\n",
    "coincident = _idx[neut_per_frame > 10]\n",
    "print(coincident[:50])\n",
    "print(neut_per_frame[:50])\n",
    "assert coincident[0] == fwfn"
   ]
  },
  {
   "cell_type": "code",
   "execution_count": 21,
   "id": "0783edcb-7ba4-4dd1-9363-b58e0f1567d6",
   "metadata": {
    "scrolled": true
   },
   "outputs": [
    {
     "data": {
      "text/plain": [
       "(np.float64(1750297019.9464233),\n",
       " np.float64(1750297019.9879086),\n",
       " np.float64(1750297020.0294693),\n",
       " np.float64(1750297020.071486),\n",
       " np.float64(1750297020.1130157),\n",
       " 1750297020.023683)"
      ]
     },
     "execution_count": 21,
     "metadata": {},
     "output_type": "execute_result"
    }
   ],
   "source": [
    "_t0 = np.array(t0) / 1e9\n",
    "_t0[idx - 2], _t0[idx - 1], _t0[idx], _t0[idx + 1], _t0[idx + 2], dataset_start_time_t"
   ]
  },
  {
   "cell_type": "code",
   "execution_count": 12,
   "id": "2e829d59-d799-4b66-a95f-c542f487bb5a",
   "metadata": {
    "scrolled": true
   },
   "outputs": [
    {
     "data": {
      "text/plain": [
       "(np.float64(24.000049091747677), np.float64(4.4317284259216505))"
      ]
     },
     "execution_count": 12,
     "metadata": {},
     "output_type": "execute_result"
    }
   ],
   "source": [
    "1/np.mean(np.diff(_t0)), 1/np.mean(np.diff(t4)/1e9)"
   ]
  },
  {
   "cell_type": "code",
   "execution_count": 13,
   "id": "9778e7a4-0617-4684-a76e-c39e35899b86",
   "metadata": {},
   "outputs": [
    {
     "ename": "NameError",
     "evalue": "name 'frames4' is not defined",
     "output_type": "error",
     "traceback": [
      "\u001b[31m---------------------------------------------------------------------------\u001b[39m",
      "\u001b[31mNameError\u001b[39m                                 Traceback (most recent call last)",
      "\u001b[36mCell\u001b[39m\u001b[36m \u001b[39m\u001b[32mIn[13]\u001b[39m\u001b[32m, line 3\u001b[39m\n\u001b[32m      1\u001b[39m \u001b[38;5;66;03m# Cell calculates the time lag of the slower chopper compared to first\u001b[39;00m\n\u001b[32m      2\u001b[39m \u001b[38;5;66;03m# epoch times for c1 that has c4 as well\u001b[39;00m\n\u001b[32m----> \u001b[39m\u001b[32m3\u001b[39m c1_with_4 = np.array(t0)[np.array(\u001b[43mframes4\u001b[49m)]\n\u001b[32m      4\u001b[39m np.mean((np.array(t4) - c1_with_4)/\u001b[32m1e6\u001b[39m), np.std((np.array(t4) - c1_with_4)/\u001b[32m1e6\u001b[39m)\n\u001b[32m      6\u001b[39m \u001b[38;5;66;03m# (np.float64(6.5960680104166665), np.float64(0.1701891744150397))\u001b[39;00m\n\u001b[32m      7\u001b[39m \u001b[38;5;66;03m# (np.float64(6.7056619444444445), np.float64(0.7798491055443618))\u001b[39;00m\n",
      "\u001b[31mNameError\u001b[39m: name 'frames4' is not defined"
     ]
    }
   ],
   "source": [
    "# Cell calculates the time lag of the slower chopper compared to first\n",
    "# epoch times for c1 that has c4 as well\n",
    "c1_with_4 = np.array(t0)[np.array(frames4)]\n",
    "np.mean((np.array(t4) - c1_with_4)/1e6), np.std((np.array(t4) - c1_with_4)/1e6)\n",
    "\n",
    "# (np.float64(6.5960680104166665), np.float64(0.1701891744150397))\n",
    "# (np.float64(6.7056619444444445), np.float64(0.7798491055443618))"
   ]
  },
  {
   "cell_type": "code",
   "execution_count": null,
   "id": "48c4c18b-6f6b-43d7-89bd-62596bad5b5b",
   "metadata": {},
   "outputs": [],
   "source": []
  },
  {
   "cell_type": "code",
   "execution_count": null,
   "id": "2bbb5222-ee59-4ee8-8ad4-a8a263944a4b",
   "metadata": {},
   "outputs": [],
   "source": []
  }
 ],
 "metadata": {
  "kernelspec": {
   "display_name": "Python 3 (ipykernel)",
   "language": "python",
   "name": "python3"
  },
  "language_info": {
   "codemirror_mode": {
    "name": "ipython",
    "version": 3
   },
   "file_extension": ".py",
   "mimetype": "text/x-python",
   "name": "python",
   "nbconvert_exporter": "python",
   "pygments_lexer": "ipython3",
   "version": "3.11.2"
  }
 },
 "nbformat": 4,
 "nbformat_minor": 5
}
