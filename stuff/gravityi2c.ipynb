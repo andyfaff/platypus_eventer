{
 "cells": [
  {
   "cell_type": "code",
   "execution_count": 1,
   "id": "25a58e4f-99ec-4cdc-b6d1-fefcd0801bc0",
   "metadata": {},
   "outputs": [],
   "source": [
    "\"\"\"\n",
    "    Adapted from the following code by Andrew Nelson 2025\n",
    "\n",
    "    @file DFRobot_ADS1115_0_10V.py\n",
    "    @brief Define the basic structure of class DFRobot_ADS1115\n",
    "    @copyright\tCopyright (c) 2010 DFRobot Co.Ltd (http://www.dfrobot.com)\n",
    "    @license The MIT License (MIT)\n",
    "    @author [lr](rong.li@dfrobot.com)\n",
    "    @version V1.0.0\n",
    "    @date 2024-07-23\n",
    "    @url https://github.com/DFRobot/DFRobot_ADS1115_0_10V\n",
    "\"\"\"\n",
    "\n",
    "import smbus\n",
    "\n",
    "\n",
    "class DFRobot_ads1115:\n",
    "    _device_addr = 0x4B\n",
    "    # Channel address\n",
    "    CHANNEL_SELECT_ADDRESS = 0x20\n",
    "    # Read data address: 0x30 data bits, 0x31-0x33 data\n",
    "    CHANNEL_DATA_ADDRESS = 0x31\n",
    "\n",
    "    def __init__(self, i2c_bus, addr):\n",
    "        self._i2c_bus = smbus.SMBus(i2c_bus)\n",
    "        self._device_addr = addr\n",
    "        self._i2c_bus.read_byte(self._device_addr)\n",
    "\n",
    "    def close(self):\n",
    "        self._i2c_bus.close()\n",
    "\n",
    "    def get_value(self, channel):\n",
    "        self._write_reg(self.CHANNEL_SELECT_ADDRESS, [channel], size=1)\n",
    "        buf = self._read_reg(self.CHANNEL_DATA_ADDRESS, 3)\n",
    "        return (buf[0] * 65536 + buf[1] * 256 + buf[2]) / 100.0\n",
    "\n",
    "    def _write_reg(self, reg, p_buf, size):\n",
    "        self._i2c_bus.write_byte_data(self._device_addr, reg, p_buf[0])\n",
    "\n",
    "    def _read_reg(self, reg, size):\n",
    "        return self._i2c_bus.read_i2c_block_data(self._device_addr, reg, size)"
   ]
  },
  {
   "cell_type": "code",
   "execution_count": 3,
   "id": "b07ffc5a-0abc-4a45-86b6-772913e095d5",
   "metadata": {},
   "outputs": [],
   "source": [
    "SLAVE_ADDRESS = 0x4B\n",
    "ads1115 = DFRobot_ads1115(1, SLAVE_ADDRESS)"
   ]
  },
  {
   "cell_type": "code",
   "execution_count": 4,
   "id": "9e5ed67c-d795-4328-9206-e657f9ec26b6",
   "metadata": {},
   "outputs": [
    {
     "name": "stdout",
     "output_type": "stream",
     "text": [
      "channel=0, voltage=0.0\n",
      "channel=1, voltage=0.0\n"
     ]
    }
   ],
   "source": [
    "for channel in range(2):\n",
    "    print(f\"{channel=}, voltage={ads1115.get_value(channel)}\")"
   ]
  },
  {
   "cell_type": "code",
   "execution_count": 5,
   "id": "e02a71de-70e5-4ec5-a642-4661a7529e3d",
   "metadata": {},
   "outputs": [],
   "source": [
    "ads1115.close()"
   ]
  }
 ],
 "metadata": {
  "kernelspec": {
   "display_name": "Python 3 (ipykernel)",
   "language": "python",
   "name": "python3"
  },
  "language_info": {
   "codemirror_mode": {
    "name": "ipython",
    "version": 3
   },
   "file_extension": ".py",
   "mimetype": "text/x-python",
   "name": "python",
   "nbconvert_exporter": "python",
   "pygments_lexer": "ipython3",
   "version": "3.11.2"
  }
 },
 "nbformat": 4,
 "nbformat_minor": 5
}
